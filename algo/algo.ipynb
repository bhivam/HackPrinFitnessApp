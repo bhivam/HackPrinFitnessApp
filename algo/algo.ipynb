{
 "cells": [
  {
   "cell_type": "markdown",
   "metadata": {},
   "source": [
    "# config"
   ]
  },
  {
   "cell_type": "code",
   "execution_count": 24,
   "metadata": {},
   "outputs": [],
   "source": [
    "import tensorflow as tf\n",
    "import tensorflow_hub as hub\n",
    "from tensorflow_docs.vis import embed\n",
    "import numpy as np\n",
    "import cv2\n",
    "\n",
    "# Import matplotlib libraries\n",
    "from matplotlib import pyplot as plt\n",
    "from matplotlib.collections import LineCollection\n",
    "import matplotlib.patches as patches\n",
    "\n",
    "# Some modules to display an animation using imageio.\n",
    "import imageio\n",
    "from IPython.display import HTML, display"
   ]
  },
  {
   "cell_type": "markdown",
   "metadata": {},
   "source": []
  },
  {
   "cell_type": "code",
   "execution_count": 39,
   "metadata": {},
   "outputs": [],
   "source": [
    "#@title Helper functions for visualization\n",
    "\n",
    "# Dictionary that maps from joint names to keypoint indices.\n",
    "KEYPOINT_DICT = {\n",
    "    'nose': 0,\n",
    "    'left_eye': 1,\n",
    "    'right_eye': 2,\n",
    "    'left_ear': 3,\n",
    "    'right_ear': 4,\n",
    "    'left_shoulder': 5,\n",
    "    'right_shoulder': 6,\n",
    "    'left_elbow': 7,\n",
    "    'right_elbow': 8,\n",
    "    'left_wrist': 9,\n",
    "    'right_wrist': 10,\n",
    "    'left_hip': 11,\n",
    "    'right_hip': 12,\n",
    "    'left_knee': 13,\n",
    "    'right_knee': 14,\n",
    "    'left_ankle': 15,\n",
    "    'right_ankle': 16\n",
    "}\n",
    "\n",
    "# Maps bones to a matplotlib color name.\n",
    "KEYPOINT_EDGE_INDS_TO_COLOR = {\n",
    "    (0, 1): 'm',\n",
    "    (0, 2): 'c',\n",
    "    (1, 3): 'm',\n",
    "    (2, 4): 'c',\n",
    "    (0, 5): 'm',\n",
    "    (0, 6): 'c',\n",
    "    (5, 7): 'm',\n",
    "    (7, 9): 'm',\n",
    "    (6, 8): 'c',\n",
    "    (8, 10): 'c',\n",
    "    (5, 6): 'y',\n",
    "    (5, 11): 'm',\n",
    "    (6, 12): 'c',\n",
    "    (11, 12): 'y',\n",
    "    (11, 13): 'm',\n",
    "    (13, 15): 'm',\n",
    "    (12, 14): 'c',\n",
    "    (14, 16): 'c'\n",
    "}\n",
    "\n",
    "def _keypoints_and_edges_for_display(keypoints_with_scores,\n",
    "                                     height,\n",
    "                                     width,\n",
    "                                     keypoint_threshold=0.11):\n",
    "  \"\"\"Returns high confidence keypoints and edges for visualization.\n",
    "\n",
    "  Args:\n",
    "    keypoints_with_scores: A numpy array with shape [1, 1, 17, 3] representing\n",
    "      the keypoint coordinates and scores returned from the MoveNet model.\n",
    "    height: height of the image in pixels.\n",
    "    width: width of the image in pixels.\n",
    "    keypoint_threshold: minimum confidence score for a keypoint to be\n",
    "      visualized.\n",
    "\n",
    "  Returns:\n",
    "    A (keypoints_xy, edges_xy, edge_colors) containing:\n",
    "      * the coordinates of all keypoints of all detected entities;\n",
    "      * the coordinates of all skeleton edges of all detected entities;\n",
    "      * the colors in which the edges should be plotted.\n",
    "  \"\"\"\n",
    "  keypoints_all = []\n",
    "  keypoint_edges_all = []\n",
    "  edge_colors = []\n",
    "  num_instances, _, _, _ = keypoints_with_scores.shape\n",
    "  for idx in range(num_instances):\n",
    "    kpts_x = keypoints_with_scores[0, idx, :, 1]\n",
    "    kpts_y = keypoints_with_scores[0, idx, :, 0]\n",
    "    kpts_scores = keypoints_with_scores[0, idx, :, 2]\n",
    "    kpts_absolute_xy = np.stack(\n",
    "        [width * np.array(kpts_x), height * np.array(kpts_y)], axis=-1)\n",
    "    kpts_above_thresh_absolute = kpts_absolute_xy[\n",
    "        kpts_scores > keypoint_threshold, :]\n",
    "    keypoints_all.append(kpts_above_thresh_absolute)\n",
    "\n",
    "    for edge_pair, color in KEYPOINT_EDGE_INDS_TO_COLOR.items():\n",
    "      if (kpts_scores[edge_pair[0]] > keypoint_threshold and\n",
    "          kpts_scores[edge_pair[1]] > keypoint_threshold):\n",
    "        x_start = kpts_absolute_xy[edge_pair[0], 0]\n",
    "        y_start = kpts_absolute_xy[edge_pair[0], 1]\n",
    "        x_end = kpts_absolute_xy[edge_pair[1], 0]\n",
    "        y_end = kpts_absolute_xy[edge_pair[1], 1]\n",
    "        line_seg = np.array([[x_start, y_start], [x_end, y_end]])\n",
    "        keypoint_edges_all.append(line_seg)\n",
    "        edge_colors.append(color)\n",
    "  if keypoints_all:\n",
    "    keypoints_xy = np.concatenate(keypoints_all, axis=0)\n",
    "  else:\n",
    "    keypoints_xy = np.zeros((0, 17, 2))\n",
    "\n",
    "  if keypoint_edges_all:\n",
    "    edges_xy = np.stack(keypoint_edges_all, axis=0)\n",
    "  else:\n",
    "    edges_xy = np.zeros((0, 2, 2))\n",
    "  return keypoints_xy, edges_xy, edge_colors\n",
    "\n",
    "\n",
    "def draw_prediction_on_image(\n",
    "    image, keypoints_with_scores, crop_region=None, close_figure=False,\n",
    "    output_image_height=None):\n",
    "  \"\"\"Draws the keypoint predictions on image.\n",
    "\n",
    "  Args:\n",
    "    image: A numpy array with shape [height, width, channel] representing the\n",
    "      pixel values of the input image.\n",
    "    keypoints_with_scores: A numpy array with shape [1, 1, 17, 3] representing\n",
    "      the keypoint coordinates and scores returned from the MoveNet model.\n",
    "    crop_region: A dictionary that defines the coordinates of the bounding box\n",
    "      of the crop region in normalized coordinates (see the init_crop_region\n",
    "      function below for more detail). If provided, this function will also\n",
    "      draw the bounding box on the image.\n",
    "    output_image_height: An integer indicating the height of the output image.\n",
    "      Note that the image aspect ratio will be the same as the input image.\n",
    "\n",
    "  Returns:\n",
    "    A numpy array with shape [out_height, out_width, channel] representing the\n",
    "    image overlaid with keypoint predictions.\n",
    "  \"\"\"\n",
    "  height, width, channel = image.shape\n",
    "  aspect_ratio = float(width) / height\n",
    "  fig, ax = plt.subplots(figsize=(12 * aspect_ratio, 12))\n",
    "  # To remove the huge white borders\n",
    "  fig.tight_layout(pad=0)\n",
    "  ax.margins(0)\n",
    "  ax.set_yticklabels([])\n",
    "  ax.set_xticklabels([])\n",
    "  plt.axis('off')\n",
    "\n",
    "  im = ax.imshow(image)\n",
    "  line_segments = LineCollection([], linewidths=(4), linestyle='solid')\n",
    "  ax.add_collection(line_segments)\n",
    "  # Turn off tick labels\n",
    "  scat = ax.scatter([], [], s=60, color='#FF1493', zorder=3)\n",
    "\n",
    "  (keypoint_locs, keypoint_edges,\n",
    "   edge_colors) = _keypoints_and_edges_for_display(\n",
    "       keypoints_with_scores, height, width)\n",
    "\n",
    "  line_segments.set_segments(keypoint_edges)\n",
    "  line_segments.set_color(edge_colors)\n",
    "  if keypoint_edges.shape[0]:\n",
    "    line_segments.set_segments(keypoint_edges)\n",
    "    line_segments.set_color(edge_colors)\n",
    "  if keypoint_locs.shape[0]:\n",
    "    scat.set_offsets(keypoint_locs)\n",
    "\n",
    "  if crop_region is not None:\n",
    "    xmin = max(crop_region['x_min'] * width, 0.0)\n",
    "    ymin = max(crop_region['y_min'] * height, 0.0)\n",
    "    rec_width = min(crop_region['x_max'], 0.99) * width - xmin\n",
    "    rec_height = min(crop_region['y_max'], 0.99) * height - ymin\n",
    "    rect = patches.Rectangle(\n",
    "        (xmin,ymin),rec_width,rec_height,\n",
    "        linewidth=1,edgecolor='b',facecolor='none')\n",
    "    ax.add_patch(rect)\n",
    "\n",
    "  fig.canvas.draw()\n",
    "  image_from_plot = np.frombuffer(fig.canvas.tostring_rgb(), dtype=np.uint8)\n",
    "  image_from_plot = image_from_plot.reshape(\n",
    "      fig.canvas.get_width_height()[::-1] + (3,))\n",
    "  plt.close(fig)\n",
    "  if output_image_height is not None:\n",
    "    output_image_width = int(output_image_height / height * width)\n",
    "    image_from_plot = cv2.resize(\n",
    "        image_from_plot, dsize=(output_image_width, output_image_height),\n",
    "         interpolation=cv2.INTER_CUBIC)\n",
    "  return image_from_plot\n",
    "\n",
    "def to_gif(images, duration):\n",
    "  \"\"\"Converts image sequence (4D numpy array) to gif.\"\"\"\n",
    "  imageio.mimsave('./animation.gif', images, duration=duration)\n",
    "  return embed.embed_file('./animation.gif')\n",
    "\n",
    "def progress(value, max=100):\n",
    "  return HTML(\"\"\"\n",
    "      <progress\n",
    "          value='{value}'\n",
    "          max='{max}',\n",
    "          style='width: 100%'\n",
    "      >\n",
    "          {value}\n",
    "      </progress>\n",
    "  \"\"\".format(value=value, max=max))"
   ]
  },
  {
   "cell_type": "code",
   "execution_count": 40,
   "metadata": {},
   "outputs": [],
   "source": [
    "model_name = \"movenet_lightning\"\n",
    "\n",
    "if \"tflite\" in model_name:\n",
    "  if \"movenet_lightning_f16\" in model_name:\n",
    "    !wget -q -O model.tflite https://tfhub.dev/google/lite-model/movenet/singlepose/lightning/tflite/float16/4?lite-format=tflite\n",
    "    input_size = 192\n",
    "  elif \"movenet_thunder_f16\" in model_name:\n",
    "    !wget -q -O model.tflite https://tfhub.dev/google/lite-model/movenet/singlepose/thunder/tflite/float16/4?lite-format=tflite\n",
    "    input_size = 256\n",
    "  elif \"movenet_lightning_int8\" in model_name:\n",
    "    !wget -q -O model.tflite https://tfhub.dev/google/lite-model/movenet/singlepose/lightning/tflite/int8/4?lite-format=tflite\n",
    "    input_size = 192\n",
    "  elif \"movenet_thunder_int8\" in model_name:\n",
    "    !wget -q -O model.tflite https://tfhub.dev/google/lite-model/movenet/singlepose/thunder/tflite/int8/4?lite-format=tflite\n",
    "    input_size = 256\n",
    "  else:\n",
    "    raise ValueError(\"Unsupported model name: %s\" % model_name)\n",
    "\n",
    "  # Initialize the TFLite interpreter\n",
    "  interpreter = tf.lite.Interpreter(model_path=\"model.tflite\")\n",
    "  interpreter.allocate_tensors()\n",
    "\n",
    "  def movenet(input_image):\n",
    "    \"\"\"Runs detection on an input image.\n",
    "\n",
    "    Args:\n",
    "      input_image: A [1, height, width, 3] tensor represents the input image\n",
    "        pixels. Note that the height/width should already be resized and match the\n",
    "        expected input resolution of the model before passing into this function.\n",
    "\n",
    "    Returns:\n",
    "      A [1, 1, 17, 3] float numpy array representing the predicted keypoint\n",
    "      coordinates and scores.\n",
    "    \"\"\"\n",
    "    # TF Lite format expects tensor type of uint8.\n",
    "    input_image = tf.cast(input_image, dtype=tf.uint8)\n",
    "    input_details = interpreter.get_input_details()\n",
    "    output_details = interpreter.get_output_details()\n",
    "    interpreter.set_tensor(input_details[0]['index'], input_image.numpy())\n",
    "    # Invoke inference.\n",
    "    interpreter.invoke()\n",
    "    # Get the model prediction.\n",
    "    keypoints_with_scores = interpreter.get_tensor(output_details[0]['index'])\n",
    "    return keypoints_with_scores\n",
    "\n",
    "else:\n",
    "  if \"movenet_lightning\" in model_name:\n",
    "    module = hub.load(\"https://tfhub.dev/google/movenet/singlepose/lightning/4\")\n",
    "    input_size = 192\n",
    "  elif \"movenet_thunder\" in model_name:\n",
    "    module = hub.load(\"https://tfhub.dev/google/movenet/singlepose/thunder/4\")\n",
    "    input_size = 256\n",
    "  else:\n",
    "    raise ValueError(\"Unsupported model name: %s\" % model_name)\n",
    "\n",
    "  def movenet(input_image):\n",
    "    \"\"\"Runs detection on an input image.\n",
    "\n",
    "    Args:\n",
    "      input_image: A [1, height, width, 3] tensor represents the input image\n",
    "        pixels. Note that the height/width should already be resized and match the\n",
    "        expected input resolution of the model before passing into this function.\n",
    "\n",
    "    Returns:\n",
    "      A [1, 1, 17, 3] float numpy array representing the predicted keypoint\n",
    "      coordinates and scores.\n",
    "    \"\"\"\n",
    "    model = module.signatures['serving_default']\n",
    "\n",
    "    # SavedModel format expects tensor type of int32.\n",
    "    input_image = tf.cast(input_image, dtype=tf.int32)\n",
    "    # Run model inference.\n",
    "    outputs = model(input_image)\n",
    "    # Output is a [1, 1, 17, 3] tensor.\n",
    "    keypoints_with_scores = outputs['output_0'].numpy()\n",
    "    return keypoints_with_scores"
   ]
  },
  {
   "cell_type": "code",
   "execution_count": 30,
   "metadata": {},
   "outputs": [],
   "source": [
    "import os\n",
    "\n",
    "os.chdir(\"..\")"
   ]
  },
  {
   "cell_type": "code",
   "execution_count": 123,
   "metadata": {},
   "outputs": [
    {
     "name": "stdout",
     "output_type": "stream",
     "text": [
      "['.DS_Store', 'DATASET', '.gitignore', 'utils.py', '.venv', 'animation.gif', 'algo.ipynb']\n"
     ]
    }
   ],
   "source": [
    "# Load the input image.\n",
    "import os\n",
    "\n",
    "\n",
    "print(os.listdir())\n",
    "image_path = \"./DATASET/TEST/downdog/00000000.jpg\"\n",
    "\n",
    "image = tf.io.read_file(image_path)\n",
    "image = tf.image.decode_gif(image)"
   ]
  },
  {
   "cell_type": "code",
   "execution_count": 116,
   "metadata": {},
   "outputs": [],
   "source": [
    "#@title Cropping Algorithm\n",
    "\n",
    "# Confidence score to determine whether a keypoint prediction is reliable.\n",
    "MIN_CROP_KEYPOINT_SCORE = 0.2\n",
    "\n",
    "def init_crop_region(image_height, image_width):\n",
    "  \"\"\"Defines the default crop region.\n",
    "\n",
    "  The function provides the initial crop region (pads the full image from both\n",
    "  sides to make it a square image) when the algorithm cannot reliably determine\n",
    "  the crop region from the previous frame.\n",
    "  \"\"\"\n",
    "  if image_width > image_height:\n",
    "    box_height = image_width / image_height\n",
    "    box_width = 1.0\n",
    "    y_min = (image_height / 2 - image_width / 2) / image_height\n",
    "    x_min = 0.0\n",
    "  else:\n",
    "    box_height = 1.0\n",
    "    box_width = image_height / image_width\n",
    "    y_min = 0.0\n",
    "    x_min = (image_width / 2 - image_height / 2) / image_width\n",
    "\n",
    "  return {\n",
    "    'y_min': y_min,\n",
    "    'x_min': x_min,\n",
    "    'y_max': y_min + box_height,\n",
    "    'x_max': x_min + box_width,\n",
    "    'height': box_height,\n",
    "    'width': box_width\n",
    "  }\n",
    "\n",
    "def torso_visible(keypoints):\n",
    "  \"\"\"Checks whether there are enough torso keypoints.\n",
    "\n",
    "  This function checks whether the model is confident at predicting one of the\n",
    "  shoulders/hips which is required to determine a good crop region.\n",
    "  \"\"\"\n",
    "  return ((keypoints[0, 0, KEYPOINT_DICT['left_hip'], 2] >\n",
    "           MIN_CROP_KEYPOINT_SCORE or\n",
    "          keypoints[0, 0, KEYPOINT_DICT['right_hip'], 2] >\n",
    "           MIN_CROP_KEYPOINT_SCORE) and\n",
    "          (keypoints[0, 0, KEYPOINT_DICT['left_shoulder'], 2] >\n",
    "           MIN_CROP_KEYPOINT_SCORE or\n",
    "          keypoints[0, 0, KEYPOINT_DICT['right_shoulder'], 2] >\n",
    "           MIN_CROP_KEYPOINT_SCORE))\n",
    "\n",
    "def determine_torso_and_body_range(\n",
    "    keypoints, target_keypoints, center_y, center_x):\n",
    "  \"\"\"Calculates the maximum distance from each keypoints to the center location.\n",
    "\n",
    "  The function returns the maximum distances from the two sets of keypoints:\n",
    "  full 17 keypoints and 4 torso keypoints. The returned information will be\n",
    "  used to determine the crop size. See determineCropRegion for more detail.\n",
    "  \"\"\"\n",
    "  torso_joints = ['left_shoulder', 'right_shoulder', 'left_hip', 'right_hip']\n",
    "  max_torso_yrange = 0.0\n",
    "  max_torso_xrange = 0.0\n",
    "  for joint in torso_joints:\n",
    "    dist_y = abs(center_y - target_keypoints[joint][0])\n",
    "    dist_x = abs(center_x - target_keypoints[joint][1])\n",
    "    if dist_y > max_torso_yrange:\n",
    "      max_torso_yrange = dist_y\n",
    "    if dist_x > max_torso_xrange:\n",
    "      max_torso_xrange = dist_x\n",
    "\n",
    "  max_body_yrange = 0.0\n",
    "  max_body_xrange = 0.0\n",
    "  for joint in KEYPOINT_DICT.keys():\n",
    "    if keypoints[0, 0, KEYPOINT_DICT[joint], 2] < MIN_CROP_KEYPOINT_SCORE:\n",
    "      continue\n",
    "    dist_y = abs(center_y - target_keypoints[joint][0]);\n",
    "    dist_x = abs(center_x - target_keypoints[joint][1]);\n",
    "    if dist_y > max_body_yrange:\n",
    "      max_body_yrange = dist_y\n",
    "\n",
    "    if dist_x > max_body_xrange:\n",
    "      max_body_xrange = dist_x\n",
    "\n",
    "  return [max_torso_yrange, max_torso_xrange, max_body_yrange, max_body_xrange]\n",
    "\n",
    "def determine_crop_region(\n",
    "      keypoints, image_height,\n",
    "      image_width):\n",
    "  \"\"\"Determines the region to crop the image for the model to run inference on.\n",
    "\n",
    "  The algorithm uses the detected joints from the previous frame to estimate\n",
    "  the square region that encloses the full body of the target person and\n",
    "  centers at the midpoint of two hip joints. The crop size is determined by\n",
    "  the distances between each joints and the center point.\n",
    "  When the model is not confident with the four torso joint predictions, the\n",
    "  function returns a default crop which is the full image padded to square.\n",
    "  \"\"\"\n",
    "  target_keypoints = {}\n",
    "  for joint in KEYPOINT_DICT.keys():\n",
    "    target_keypoints[joint] = [\n",
    "      keypoints[0, 0, KEYPOINT_DICT[joint], 0] * image_height,\n",
    "      keypoints[0, 0, KEYPOINT_DICT[joint], 1] * image_width\n",
    "    ]\n",
    "\n",
    "  if torso_visible(keypoints):\n",
    "    center_y = (target_keypoints['left_hip'][0] +\n",
    "                target_keypoints['right_hip'][0]) / 2;\n",
    "    center_x = (target_keypoints['left_hip'][1] +\n",
    "                target_keypoints['right_hip'][1]) / 2;\n",
    "\n",
    "    (max_torso_yrange, max_torso_xrange,\n",
    "      max_body_yrange, max_body_xrange) = determine_torso_and_body_range(\n",
    "          keypoints, target_keypoints, center_y, center_x)\n",
    "\n",
    "    crop_length_half = np.amax(\n",
    "        [max_torso_xrange * 1.9, max_torso_yrange * 1.9,\n",
    "          max_body_yrange * 1.2, max_body_xrange * 1.2])\n",
    "\n",
    "    tmp = np.array(\n",
    "        [center_x, image_width - center_x, center_y, image_height - center_y])\n",
    "    crop_length_half = np.amin(\n",
    "        [crop_length_half, np.amax(tmp)]);\n",
    "\n",
    "    crop_corner = [center_y - crop_length_half, center_x - crop_length_half];\n",
    "\n",
    "    if crop_length_half > max(image_width, image_height) / 2:\n",
    "      return init_crop_region(image_height, image_width)\n",
    "    else:\n",
    "      crop_length = crop_length_half * 2;\n",
    "      return {\n",
    "        'y_min': crop_corner[0] / image_height,\n",
    "        'x_min': crop_corner[1] / image_width,\n",
    "        'y_max': (crop_corner[0] + crop_length) / image_height,\n",
    "        'x_max': (crop_corner[1] + crop_length) / image_width,\n",
    "        'height': (crop_corner[0] + crop_length) / image_height -\n",
    "            crop_corner[0] / image_height,\n",
    "        'width': (crop_corner[1] + crop_length) / image_width -\n",
    "            crop_corner[1] / image_width\n",
    "      }\n",
    "  else:\n",
    "    return init_crop_region(image_height, image_width)\n",
    "\n",
    "def crop_and_resize(image, crop_region, crop_size):\n",
    "  \"\"\"Crops and resize the image to prepare for the model input.\"\"\"\n",
    "  boxes=[[crop_region['y_min'], crop_region['x_min'],\n",
    "          crop_region['y_max'], crop_region['x_max']]]\n",
    "  output_image = tf.image.crop_and_resize(\n",
    "      image, box_indices=[0], boxes=boxes, crop_size=crop_size)\n",
    "  return output_image\n",
    "\n",
    "def run_inference(movenet, image, crop_region, crop_size):\n",
    "  \"\"\"Runs model inference on the cropped region.\n",
    "\n",
    "  The function runs the model inference on the cropped region and updates the\n",
    "  model output to the original image coordinate system.\n",
    "  \"\"\"\n",
    "  image_height, image_width, _ = image.shape\n",
    "  input_image = crop_and_resize(\n",
    "    tf.expand_dims(image, axis=0), crop_region, crop_size=crop_size)\n",
    "  # Run model inference.\n",
    "  keypoints_with_scores = movenet(input_image)\n",
    "  # Update the coordinates.\n",
    "  for idx in range(17):\n",
    "    keypoints_with_scores[0, 0, idx, 0] = (\n",
    "        crop_region['y_min'] * image_height +\n",
    "        crop_region['height'] * image_height *\n",
    "        keypoints_with_scores[0, 0, idx, 0]) / image_height\n",
    "    keypoints_with_scores[0, 0, idx, 1] = (\n",
    "        crop_region['x_min'] * image_width +\n",
    "        crop_region['width'] * image_width *\n",
    "        keypoints_with_scores[0, 0, idx, 1]) / image_width\n",
    "  return keypoints_with_scores"
   ]
  },
  {
   "cell_type": "code",
   "execution_count": 124,
   "metadata": {},
   "outputs": [],
   "source": [
    "# Load the input image.\n",
    "def ret_coord(image):\n",
    "    num_frames, image_height, image_width, _ = image.shape\n",
    "    crop_region = init_crop_region(image_height, image_width)\n",
    "\n",
    "    output_images = []\n",
    "    bar = display(progress(0, num_frames-1), display_id=True)\n",
    "    for frame_idx in range(num_frames):\n",
    "        keypoints_with_scores = run_inference(\n",
    "        movenet, image[frame_idx, :, :, :], crop_region,\n",
    "        crop_size=[input_size, input_size])\n",
    "    output_images.append(draw_prediction_on_image(\n",
    "        image[frame_idx, :, :, :].numpy().astype(np.int32),\n",
    "        keypoints_with_scores, crop_region=None,\n",
    "        close_figure=True, output_image_height=300))\n",
    "    crop_region = determine_crop_region(\n",
    "        keypoints_with_scores, image_height, image_width)\n",
    "    bar.update(progress(frame_idx, num_frames-1))\n",
    "\n",
    "    # Prepare gif visualization.\n",
    "    output = np.stack(output_images, axis=0)\n",
    "    to_gif(output, duration=100)\n",
    "\n",
    "    return keypoints_with_scores"
   ]
  },
  {
   "cell_type": "code",
   "execution_count": 125,
   "metadata": {},
   "outputs": [
    {
     "data": {
      "text/html": [
       "\n",
       "      <progress\n",
       "          value='0'\n",
       "          max='0',\n",
       "          style='width: 100%'\n",
       "      >\n",
       "          0\n",
       "      </progress>\n",
       "  "
      ],
      "text/plain": [
       "<IPython.core.display.HTML object>"
      ]
     },
     "metadata": {},
     "output_type": "display_data"
    },
    {
     "name": "stderr",
     "output_type": "stream",
     "text": [
      "/var/folders/b7/2pb1l53973g403rx3dhyqb6m0000gn/T/ipykernel_15691/2693263076.py:162: MatplotlibDeprecationWarning: The tostring_rgb function was deprecated in Matplotlib 3.8 and will be removed in 3.10. Use buffer_rgba instead.\n",
      "  image_from_plot = np.frombuffer(fig.canvas.tostring_rgb(), dtype=np.uint8)\n"
     ]
    },
    {
     "data": {
      "text/plain": [
       "array([[[[0.74317694, 0.52384114, 0.5365675 ],\n",
       "         [0.75915426, 0.5106817 , 0.5345275 ],\n",
       "         [0.7548479 , 0.5129405 , 0.45078677],\n",
       "         [0.71029156, 0.46667367, 0.49839407],\n",
       "         [0.72279906, 0.46858677, 0.5857736 ],\n",
       "         [0.5989288 , 0.46044904, 0.7891274 ],\n",
       "         [0.58634794, 0.45326775, 0.69123393],\n",
       "         [0.77876323, 0.37056202, 0.6681461 ],\n",
       "         [0.7605697 , 0.36762005, 0.7918612 ],\n",
       "         [0.92199284, 0.26093388, 0.81321687],\n",
       "         [0.8661507 , 0.26882845, 0.63781315],\n",
       "         [0.21901448, 0.66606164, 0.85022223],\n",
       "         [0.22192256, 0.6604529 , 0.8427954 ],\n",
       "         [0.5637097 , 0.77166265, 0.7789906 ],\n",
       "         [0.5726481 , 0.7629994 , 0.693388  ],\n",
       "         [0.85593903, 0.8789393 , 0.769626  ],\n",
       "         [0.8282457 , 0.850692  , 0.7690953 ]]]], dtype=float32)"
      ]
     },
     "execution_count": 125,
     "metadata": {},
     "output_type": "execute_result"
    }
   ],
   "source": [
    "ret_coord(image)"
   ]
  },
  {
   "cell_type": "code",
   "execution_count": 155,
   "metadata": {},
   "outputs": [
    {
     "name": "stdout",
     "output_type": "stream",
     "text": [
      "['.DS_Store', 'DATASET', '.gitignore', 'utils.py', '.venv', 'animation.gif', 'algo.ipynb']\n",
      "None\n",
      "['00000038.jpg', '00000004.jpg', '00000010.png', '00000005.jpg', '00000011.jpg', '00000039.jpg', '00000007.jpg', '00000013.jpg', '00000012.jpg', '00000006.jpg', '00000002.jpg', '00000016.jpg', '00000017.png', '00000003.jpg', '00000001.JPG', '00000029.jpg', '00000000.jpg', '00000014.jpg', '00000107.jpg', '00000067.jpg', '00000098.jpg', '00000099.jpg', '00000112.jpg', '00000106.jpg', '00000058.jpg', '00000064.jpg', '00000059.jpg', '00000105.jpg', '00000111.jpg', '00000115.jpg', '00000101.jpg', '00000061.jpg', '00000049.jpg', '00000075.png', '00000048.jpg', '00000074.jpg', '00000060.jpg', '00000100.jpg', '00000114.jpg', '00000102.png', '00000062.jpg', '00000089.jpg', '00000088.JPG', '00000077.jpg', '00000103.jpg', '00000126.jpg', '00000052.jpg', '00000046.jpg', '00000085.jpg', '00000084.jpg', '00000090.jpg', '00000047.jpg', '00000053.jpg', '00000127.png', '00000125.jpg', '00000045.jpg', '00000092.jpg', '00000050.jpg', '00000044.jpg', '00000124.jpg', '00000118.jpg', '00000120.jpg', '00000108.jpg', '00000040.jpg', '00000054.jpg', '00000068.jpg', '00000083.jpg', '00000097.jpg', '00000041.png', '00000055.jpg', '00000109.jpg', '00000121.jpg', '00000057.jpg', '00000043.jpg', '00000094.jpg', '00000080.jpg', '00000095.jpg', '00000042.jpg', '00000056.JPG', '00000019.jpg', '00000031.jpg', '00000025.jpg', '00000024.jpg', '00000030.jpg', '00000018.jpg', '00000026.jpg', '00000032.jpg', '00000033.jpg', '00000027.jpg', '00000023.jpg', '00000037.jpg', '00000022.jpg', '00000020.jpg', '00000008.jpg', '00000009.jpg', '00000021.jpg', '00000035.jpg']\n"
     ]
    }
   ],
   "source": [
    "import os\n",
    "print(os.listdir())\n",
    "print(os.chdir(\"./DATASET/TEST/downdog\"))\n",
    "print(os.listdir())"
   ]
  },
  {
   "cell_type": "code",
   "execution_count": 156,
   "metadata": {},
   "outputs": [
    {
     "name": "stdout",
     "output_type": "stream",
     "text": [
      "['00000038.jpg', '00000004.jpg', '00000010.png', '00000005.jpg', '00000011.jpg', '00000039.jpg', '00000007.jpg', '00000013.jpg', '00000012.jpg', '00000006.jpg', '00000002.jpg', '00000016.jpg', '00000017.png', '00000003.jpg', '00000001.JPG', '00000029.jpg', '00000000.jpg', '00000014.jpg', '00000107.jpg', '00000067.jpg', '00000098.jpg', '00000099.jpg', '00000112.jpg', '00000106.jpg', '00000058.jpg', '00000064.jpg', '00000059.jpg', '00000105.jpg', '00000111.jpg', '00000115.jpg', '00000101.jpg', '00000061.jpg', '00000049.jpg', '00000075.png', '00000048.jpg', '00000074.jpg', '00000060.jpg', '00000100.jpg', '00000114.jpg', '00000102.png', '00000062.jpg', '00000089.jpg', '00000088.JPG', '00000077.jpg', '00000103.jpg', '00000126.jpg', '00000052.jpg', '00000046.jpg', '00000085.jpg', '00000084.jpg', '00000090.jpg', '00000047.jpg', '00000053.jpg', '00000127.png', '00000125.jpg', '00000045.jpg', '00000092.jpg', '00000050.jpg', '00000044.jpg', '00000124.jpg', '00000118.jpg', '00000120.jpg', '00000108.jpg', '00000040.jpg', '00000054.jpg', '00000068.jpg', '00000083.jpg', '00000097.jpg', '00000041.png', '00000055.jpg', '00000109.jpg', '00000121.jpg', '00000057.jpg', '00000043.jpg', '00000094.jpg', '00000080.jpg', '00000095.jpg', '00000042.jpg', '00000056.JPG', '00000019.jpg', '00000031.jpg', '00000025.jpg', '00000024.jpg', '00000030.jpg', '00000018.jpg', '00000026.jpg', '00000032.jpg', '00000033.jpg', '00000027.jpg', '00000023.jpg', '00000037.jpg', '00000022.jpg', '00000020.jpg', '00000008.jpg', '00000009.jpg', '00000021.jpg', '00000035.jpg']\n"
     ]
    },
    {
     "data": {
      "text/html": [
       "\n",
       "      <progress\n",
       "          value='0'\n",
       "          max='0',\n",
       "          style='width: 100%'\n",
       "      >\n",
       "          0\n",
       "      </progress>\n",
       "  "
      ],
      "text/plain": [
       "<IPython.core.display.HTML object>"
      ]
     },
     "metadata": {},
     "output_type": "display_data"
    },
    {
     "name": "stderr",
     "output_type": "stream",
     "text": [
      "/var/folders/b7/2pb1l53973g403rx3dhyqb6m0000gn/T/ipykernel_15691/2693263076.py:162: MatplotlibDeprecationWarning: The tostring_rgb function was deprecated in Matplotlib 3.8 and will be removed in 3.10. Use buffer_rgba instead.\n",
      "  image_from_plot = np.frombuffer(fig.canvas.tostring_rgb(), dtype=np.uint8)\n"
     ]
    },
    {
     "data": {
      "text/html": [
       "\n",
       "      <progress\n",
       "          value='0'\n",
       "          max='0',\n",
       "          style='width: 100%'\n",
       "      >\n",
       "          0\n",
       "      </progress>\n",
       "  "
      ],
      "text/plain": [
       "<IPython.core.display.HTML object>"
      ]
     },
     "metadata": {},
     "output_type": "display_data"
    },
    {
     "name": "stderr",
     "output_type": "stream",
     "text": [
      "/var/folders/b7/2pb1l53973g403rx3dhyqb6m0000gn/T/ipykernel_15691/2693263076.py:162: MatplotlibDeprecationWarning: The tostring_rgb function was deprecated in Matplotlib 3.8 and will be removed in 3.10. Use buffer_rgba instead.\n",
      "  image_from_plot = np.frombuffer(fig.canvas.tostring_rgb(), dtype=np.uint8)\n"
     ]
    },
    {
     "data": {
      "text/html": [
       "\n",
       "      <progress\n",
       "          value='0'\n",
       "          max='0',\n",
       "          style='width: 100%'\n",
       "      >\n",
       "          0\n",
       "      </progress>\n",
       "  "
      ],
      "text/plain": [
       "<IPython.core.display.HTML object>"
      ]
     },
     "metadata": {},
     "output_type": "display_data"
    },
    {
     "name": "stderr",
     "output_type": "stream",
     "text": [
      "/var/folders/b7/2pb1l53973g403rx3dhyqb6m0000gn/T/ipykernel_15691/2693263076.py:162: MatplotlibDeprecationWarning: The tostring_rgb function was deprecated in Matplotlib 3.8 and will be removed in 3.10. Use buffer_rgba instead.\n",
      "  image_from_plot = np.frombuffer(fig.canvas.tostring_rgb(), dtype=np.uint8)\n"
     ]
    },
    {
     "data": {
      "text/html": [
       "\n",
       "      <progress\n",
       "          value='0'\n",
       "          max='0',\n",
       "          style='width: 100%'\n",
       "      >\n",
       "          0\n",
       "      </progress>\n",
       "  "
      ],
      "text/plain": [
       "<IPython.core.display.HTML object>"
      ]
     },
     "metadata": {},
     "output_type": "display_data"
    },
    {
     "name": "stderr",
     "output_type": "stream",
     "text": [
      "/var/folders/b7/2pb1l53973g403rx3dhyqb6m0000gn/T/ipykernel_15691/2693263076.py:162: MatplotlibDeprecationWarning: The tostring_rgb function was deprecated in Matplotlib 3.8 and will be removed in 3.10. Use buffer_rgba instead.\n",
      "  image_from_plot = np.frombuffer(fig.canvas.tostring_rgb(), dtype=np.uint8)\n"
     ]
    },
    {
     "data": {
      "text/html": [
       "\n",
       "      <progress\n",
       "          value='0'\n",
       "          max='0',\n",
       "          style='width: 100%'\n",
       "      >\n",
       "          0\n",
       "      </progress>\n",
       "  "
      ],
      "text/plain": [
       "<IPython.core.display.HTML object>"
      ]
     },
     "metadata": {},
     "output_type": "display_data"
    },
    {
     "name": "stderr",
     "output_type": "stream",
     "text": [
      "/var/folders/b7/2pb1l53973g403rx3dhyqb6m0000gn/T/ipykernel_15691/2693263076.py:162: MatplotlibDeprecationWarning: The tostring_rgb function was deprecated in Matplotlib 3.8 and will be removed in 3.10. Use buffer_rgba instead.\n",
      "  image_from_plot = np.frombuffer(fig.canvas.tostring_rgb(), dtype=np.uint8)\n"
     ]
    },
    {
     "data": {
      "text/html": [
       "\n",
       "      <progress\n",
       "          value='0'\n",
       "          max='0',\n",
       "          style='width: 100%'\n",
       "      >\n",
       "          0\n",
       "      </progress>\n",
       "  "
      ],
      "text/plain": [
       "<IPython.core.display.HTML object>"
      ]
     },
     "metadata": {},
     "output_type": "display_data"
    },
    {
     "name": "stderr",
     "output_type": "stream",
     "text": [
      "/var/folders/b7/2pb1l53973g403rx3dhyqb6m0000gn/T/ipykernel_15691/2693263076.py:162: MatplotlibDeprecationWarning: The tostring_rgb function was deprecated in Matplotlib 3.8 and will be removed in 3.10. Use buffer_rgba instead.\n",
      "  image_from_plot = np.frombuffer(fig.canvas.tostring_rgb(), dtype=np.uint8)\n"
     ]
    },
    {
     "data": {
      "text/html": [
       "\n",
       "      <progress\n",
       "          value='0'\n",
       "          max='0',\n",
       "          style='width: 100%'\n",
       "      >\n",
       "          0\n",
       "      </progress>\n",
       "  "
      ],
      "text/plain": [
       "<IPython.core.display.HTML object>"
      ]
     },
     "metadata": {},
     "output_type": "display_data"
    },
    {
     "name": "stderr",
     "output_type": "stream",
     "text": [
      "/var/folders/b7/2pb1l53973g403rx3dhyqb6m0000gn/T/ipykernel_15691/2693263076.py:162: MatplotlibDeprecationWarning: The tostring_rgb function was deprecated in Matplotlib 3.8 and will be removed in 3.10. Use buffer_rgba instead.\n",
      "  image_from_plot = np.frombuffer(fig.canvas.tostring_rgb(), dtype=np.uint8)\n"
     ]
    },
    {
     "data": {
      "text/html": [
       "\n",
       "      <progress\n",
       "          value='0'\n",
       "          max='0',\n",
       "          style='width: 100%'\n",
       "      >\n",
       "          0\n",
       "      </progress>\n",
       "  "
      ],
      "text/plain": [
       "<IPython.core.display.HTML object>"
      ]
     },
     "metadata": {},
     "output_type": "display_data"
    },
    {
     "name": "stderr",
     "output_type": "stream",
     "text": [
      "/var/folders/b7/2pb1l53973g403rx3dhyqb6m0000gn/T/ipykernel_15691/2693263076.py:162: MatplotlibDeprecationWarning: The tostring_rgb function was deprecated in Matplotlib 3.8 and will be removed in 3.10. Use buffer_rgba instead.\n",
      "  image_from_plot = np.frombuffer(fig.canvas.tostring_rgb(), dtype=np.uint8)\n"
     ]
    },
    {
     "data": {
      "text/html": [
       "\n",
       "      <progress\n",
       "          value='0'\n",
       "          max='0',\n",
       "          style='width: 100%'\n",
       "      >\n",
       "          0\n",
       "      </progress>\n",
       "  "
      ],
      "text/plain": [
       "<IPython.core.display.HTML object>"
      ]
     },
     "metadata": {},
     "output_type": "display_data"
    },
    {
     "name": "stderr",
     "output_type": "stream",
     "text": [
      "/var/folders/b7/2pb1l53973g403rx3dhyqb6m0000gn/T/ipykernel_15691/2693263076.py:162: MatplotlibDeprecationWarning: The tostring_rgb function was deprecated in Matplotlib 3.8 and will be removed in 3.10. Use buffer_rgba instead.\n",
      "  image_from_plot = np.frombuffer(fig.canvas.tostring_rgb(), dtype=np.uint8)\n"
     ]
    },
    {
     "data": {
      "text/html": [
       "\n",
       "      <progress\n",
       "          value='0'\n",
       "          max='0',\n",
       "          style='width: 100%'\n",
       "      >\n",
       "          0\n",
       "      </progress>\n",
       "  "
      ],
      "text/plain": [
       "<IPython.core.display.HTML object>"
      ]
     },
     "metadata": {},
     "output_type": "display_data"
    },
    {
     "name": "stderr",
     "output_type": "stream",
     "text": [
      "/var/folders/b7/2pb1l53973g403rx3dhyqb6m0000gn/T/ipykernel_15691/2693263076.py:162: MatplotlibDeprecationWarning: The tostring_rgb function was deprecated in Matplotlib 3.8 and will be removed in 3.10. Use buffer_rgba instead.\n",
      "  image_from_plot = np.frombuffer(fig.canvas.tostring_rgb(), dtype=np.uint8)\n"
     ]
    },
    {
     "data": {
      "text/html": [
       "\n",
       "      <progress\n",
       "          value='0'\n",
       "          max='0',\n",
       "          style='width: 100%'\n",
       "      >\n",
       "          0\n",
       "      </progress>\n",
       "  "
      ],
      "text/plain": [
       "<IPython.core.display.HTML object>"
      ]
     },
     "metadata": {},
     "output_type": "display_data"
    },
    {
     "name": "stderr",
     "output_type": "stream",
     "text": [
      "/var/folders/b7/2pb1l53973g403rx3dhyqb6m0000gn/T/ipykernel_15691/2693263076.py:162: MatplotlibDeprecationWarning: The tostring_rgb function was deprecated in Matplotlib 3.8 and will be removed in 3.10. Use buffer_rgba instead.\n",
      "  image_from_plot = np.frombuffer(fig.canvas.tostring_rgb(), dtype=np.uint8)\n"
     ]
    },
    {
     "data": {
      "text/html": [
       "\n",
       "      <progress\n",
       "          value='0'\n",
       "          max='0',\n",
       "          style='width: 100%'\n",
       "      >\n",
       "          0\n",
       "      </progress>\n",
       "  "
      ],
      "text/plain": [
       "<IPython.core.display.HTML object>"
      ]
     },
     "metadata": {},
     "output_type": "display_data"
    },
    {
     "name": "stderr",
     "output_type": "stream",
     "text": [
      "/var/folders/b7/2pb1l53973g403rx3dhyqb6m0000gn/T/ipykernel_15691/2693263076.py:162: MatplotlibDeprecationWarning: The tostring_rgb function was deprecated in Matplotlib 3.8 and will be removed in 3.10. Use buffer_rgba instead.\n",
      "  image_from_plot = np.frombuffer(fig.canvas.tostring_rgb(), dtype=np.uint8)\n"
     ]
    },
    {
     "data": {
      "text/html": [
       "\n",
       "      <progress\n",
       "          value='0'\n",
       "          max='0',\n",
       "          style='width: 100%'\n",
       "      >\n",
       "          0\n",
       "      </progress>\n",
       "  "
      ],
      "text/plain": [
       "<IPython.core.display.HTML object>"
      ]
     },
     "metadata": {},
     "output_type": "display_data"
    },
    {
     "name": "stderr",
     "output_type": "stream",
     "text": [
      "/var/folders/b7/2pb1l53973g403rx3dhyqb6m0000gn/T/ipykernel_15691/2693263076.py:162: MatplotlibDeprecationWarning: The tostring_rgb function was deprecated in Matplotlib 3.8 and will be removed in 3.10. Use buffer_rgba instead.\n",
      "  image_from_plot = np.frombuffer(fig.canvas.tostring_rgb(), dtype=np.uint8)\n"
     ]
    },
    {
     "data": {
      "text/html": [
       "\n",
       "      <progress\n",
       "          value='0'\n",
       "          max='0',\n",
       "          style='width: 100%'\n",
       "      >\n",
       "          0\n",
       "      </progress>\n",
       "  "
      ],
      "text/plain": [
       "<IPython.core.display.HTML object>"
      ]
     },
     "metadata": {},
     "output_type": "display_data"
    },
    {
     "name": "stderr",
     "output_type": "stream",
     "text": [
      "/var/folders/b7/2pb1l53973g403rx3dhyqb6m0000gn/T/ipykernel_15691/2693263076.py:162: MatplotlibDeprecationWarning: The tostring_rgb function was deprecated in Matplotlib 3.8 and will be removed in 3.10. Use buffer_rgba instead.\n",
      "  image_from_plot = np.frombuffer(fig.canvas.tostring_rgb(), dtype=np.uint8)\n"
     ]
    },
    {
     "data": {
      "text/html": [
       "\n",
       "      <progress\n",
       "          value='0'\n",
       "          max='0',\n",
       "          style='width: 100%'\n",
       "      >\n",
       "          0\n",
       "      </progress>\n",
       "  "
      ],
      "text/plain": [
       "<IPython.core.display.HTML object>"
      ]
     },
     "metadata": {},
     "output_type": "display_data"
    },
    {
     "name": "stderr",
     "output_type": "stream",
     "text": [
      "/var/folders/b7/2pb1l53973g403rx3dhyqb6m0000gn/T/ipykernel_15691/2693263076.py:162: MatplotlibDeprecationWarning: The tostring_rgb function was deprecated in Matplotlib 3.8 and will be removed in 3.10. Use buffer_rgba instead.\n",
      "  image_from_plot = np.frombuffer(fig.canvas.tostring_rgb(), dtype=np.uint8)\n"
     ]
    },
    {
     "data": {
      "text/html": [
       "\n",
       "      <progress\n",
       "          value='0'\n",
       "          max='0',\n",
       "          style='width: 100%'\n",
       "      >\n",
       "          0\n",
       "      </progress>\n",
       "  "
      ],
      "text/plain": [
       "<IPython.core.display.HTML object>"
      ]
     },
     "metadata": {},
     "output_type": "display_data"
    },
    {
     "name": "stderr",
     "output_type": "stream",
     "text": [
      "/var/folders/b7/2pb1l53973g403rx3dhyqb6m0000gn/T/ipykernel_15691/2693263076.py:162: MatplotlibDeprecationWarning: The tostring_rgb function was deprecated in Matplotlib 3.8 and will be removed in 3.10. Use buffer_rgba instead.\n",
      "  image_from_plot = np.frombuffer(fig.canvas.tostring_rgb(), dtype=np.uint8)\n"
     ]
    },
    {
     "data": {
      "text/html": [
       "\n",
       "      <progress\n",
       "          value='0'\n",
       "          max='0',\n",
       "          style='width: 100%'\n",
       "      >\n",
       "          0\n",
       "      </progress>\n",
       "  "
      ],
      "text/plain": [
       "<IPython.core.display.HTML object>"
      ]
     },
     "metadata": {},
     "output_type": "display_data"
    },
    {
     "name": "stderr",
     "output_type": "stream",
     "text": [
      "/var/folders/b7/2pb1l53973g403rx3dhyqb6m0000gn/T/ipykernel_15691/2693263076.py:162: MatplotlibDeprecationWarning: The tostring_rgb function was deprecated in Matplotlib 3.8 and will be removed in 3.10. Use buffer_rgba instead.\n",
      "  image_from_plot = np.frombuffer(fig.canvas.tostring_rgb(), dtype=np.uint8)\n"
     ]
    },
    {
     "data": {
      "text/html": [
       "\n",
       "      <progress\n",
       "          value='0'\n",
       "          max='0',\n",
       "          style='width: 100%'\n",
       "      >\n",
       "          0\n",
       "      </progress>\n",
       "  "
      ],
      "text/plain": [
       "<IPython.core.display.HTML object>"
      ]
     },
     "metadata": {},
     "output_type": "display_data"
    },
    {
     "name": "stderr",
     "output_type": "stream",
     "text": [
      "/var/folders/b7/2pb1l53973g403rx3dhyqb6m0000gn/T/ipykernel_15691/2693263076.py:162: MatplotlibDeprecationWarning: The tostring_rgb function was deprecated in Matplotlib 3.8 and will be removed in 3.10. Use buffer_rgba instead.\n",
      "  image_from_plot = np.frombuffer(fig.canvas.tostring_rgb(), dtype=np.uint8)\n"
     ]
    },
    {
     "data": {
      "text/html": [
       "\n",
       "      <progress\n",
       "          value='0'\n",
       "          max='0',\n",
       "          style='width: 100%'\n",
       "      >\n",
       "          0\n",
       "      </progress>\n",
       "  "
      ],
      "text/plain": [
       "<IPython.core.display.HTML object>"
      ]
     },
     "metadata": {},
     "output_type": "display_data"
    },
    {
     "name": "stderr",
     "output_type": "stream",
     "text": [
      "/var/folders/b7/2pb1l53973g403rx3dhyqb6m0000gn/T/ipykernel_15691/2693263076.py:162: MatplotlibDeprecationWarning: The tostring_rgb function was deprecated in Matplotlib 3.8 and will be removed in 3.10. Use buffer_rgba instead.\n",
      "  image_from_plot = np.frombuffer(fig.canvas.tostring_rgb(), dtype=np.uint8)\n"
     ]
    },
    {
     "data": {
      "text/html": [
       "\n",
       "      <progress\n",
       "          value='0'\n",
       "          max='0',\n",
       "          style='width: 100%'\n",
       "      >\n",
       "          0\n",
       "      </progress>\n",
       "  "
      ],
      "text/plain": [
       "<IPython.core.display.HTML object>"
      ]
     },
     "metadata": {},
     "output_type": "display_data"
    },
    {
     "name": "stderr",
     "output_type": "stream",
     "text": [
      "/var/folders/b7/2pb1l53973g403rx3dhyqb6m0000gn/T/ipykernel_15691/2693263076.py:162: MatplotlibDeprecationWarning: The tostring_rgb function was deprecated in Matplotlib 3.8 and will be removed in 3.10. Use buffer_rgba instead.\n",
      "  image_from_plot = np.frombuffer(fig.canvas.tostring_rgb(), dtype=np.uint8)\n"
     ]
    },
    {
     "data": {
      "text/html": [
       "\n",
       "      <progress\n",
       "          value='0'\n",
       "          max='0',\n",
       "          style='width: 100%'\n",
       "      >\n",
       "          0\n",
       "      </progress>\n",
       "  "
      ],
      "text/plain": [
       "<IPython.core.display.HTML object>"
      ]
     },
     "metadata": {},
     "output_type": "display_data"
    },
    {
     "name": "stderr",
     "output_type": "stream",
     "text": [
      "/var/folders/b7/2pb1l53973g403rx3dhyqb6m0000gn/T/ipykernel_15691/2693263076.py:162: MatplotlibDeprecationWarning: The tostring_rgb function was deprecated in Matplotlib 3.8 and will be removed in 3.10. Use buffer_rgba instead.\n",
      "  image_from_plot = np.frombuffer(fig.canvas.tostring_rgb(), dtype=np.uint8)\n"
     ]
    },
    {
     "data": {
      "text/html": [
       "\n",
       "      <progress\n",
       "          value='0'\n",
       "          max='0',\n",
       "          style='width: 100%'\n",
       "      >\n",
       "          0\n",
       "      </progress>\n",
       "  "
      ],
      "text/plain": [
       "<IPython.core.display.HTML object>"
      ]
     },
     "metadata": {},
     "output_type": "display_data"
    },
    {
     "name": "stderr",
     "output_type": "stream",
     "text": [
      "/var/folders/b7/2pb1l53973g403rx3dhyqb6m0000gn/T/ipykernel_15691/2693263076.py:162: MatplotlibDeprecationWarning: The tostring_rgb function was deprecated in Matplotlib 3.8 and will be removed in 3.10. Use buffer_rgba instead.\n",
      "  image_from_plot = np.frombuffer(fig.canvas.tostring_rgb(), dtype=np.uint8)\n"
     ]
    },
    {
     "data": {
      "text/html": [
       "\n",
       "      <progress\n",
       "          value='0'\n",
       "          max='0',\n",
       "          style='width: 100%'\n",
       "      >\n",
       "          0\n",
       "      </progress>\n",
       "  "
      ],
      "text/plain": [
       "<IPython.core.display.HTML object>"
      ]
     },
     "metadata": {},
     "output_type": "display_data"
    },
    {
     "name": "stderr",
     "output_type": "stream",
     "text": [
      "/var/folders/b7/2pb1l53973g403rx3dhyqb6m0000gn/T/ipykernel_15691/2693263076.py:162: MatplotlibDeprecationWarning: The tostring_rgb function was deprecated in Matplotlib 3.8 and will be removed in 3.10. Use buffer_rgba instead.\n",
      "  image_from_plot = np.frombuffer(fig.canvas.tostring_rgb(), dtype=np.uint8)\n"
     ]
    },
    {
     "data": {
      "text/html": [
       "\n",
       "      <progress\n",
       "          value='0'\n",
       "          max='0',\n",
       "          style='width: 100%'\n",
       "      >\n",
       "          0\n",
       "      </progress>\n",
       "  "
      ],
      "text/plain": [
       "<IPython.core.display.HTML object>"
      ]
     },
     "metadata": {},
     "output_type": "display_data"
    },
    {
     "name": "stderr",
     "output_type": "stream",
     "text": [
      "/var/folders/b7/2pb1l53973g403rx3dhyqb6m0000gn/T/ipykernel_15691/2693263076.py:162: MatplotlibDeprecationWarning: The tostring_rgb function was deprecated in Matplotlib 3.8 and will be removed in 3.10. Use buffer_rgba instead.\n",
      "  image_from_plot = np.frombuffer(fig.canvas.tostring_rgb(), dtype=np.uint8)\n"
     ]
    },
    {
     "data": {
      "text/html": [
       "\n",
       "      <progress\n",
       "          value='0'\n",
       "          max='0',\n",
       "          style='width: 100%'\n",
       "      >\n",
       "          0\n",
       "      </progress>\n",
       "  "
      ],
      "text/plain": [
       "<IPython.core.display.HTML object>"
      ]
     },
     "metadata": {},
     "output_type": "display_data"
    },
    {
     "name": "stderr",
     "output_type": "stream",
     "text": [
      "/var/folders/b7/2pb1l53973g403rx3dhyqb6m0000gn/T/ipykernel_15691/2693263076.py:162: MatplotlibDeprecationWarning: The tostring_rgb function was deprecated in Matplotlib 3.8 and will be removed in 3.10. Use buffer_rgba instead.\n",
      "  image_from_plot = np.frombuffer(fig.canvas.tostring_rgb(), dtype=np.uint8)\n"
     ]
    },
    {
     "data": {
      "text/html": [
       "\n",
       "      <progress\n",
       "          value='0'\n",
       "          max='0',\n",
       "          style='width: 100%'\n",
       "      >\n",
       "          0\n",
       "      </progress>\n",
       "  "
      ],
      "text/plain": [
       "<IPython.core.display.HTML object>"
      ]
     },
     "metadata": {},
     "output_type": "display_data"
    },
    {
     "name": "stderr",
     "output_type": "stream",
     "text": [
      "/var/folders/b7/2pb1l53973g403rx3dhyqb6m0000gn/T/ipykernel_15691/2693263076.py:162: MatplotlibDeprecationWarning: The tostring_rgb function was deprecated in Matplotlib 3.8 and will be removed in 3.10. Use buffer_rgba instead.\n",
      "  image_from_plot = np.frombuffer(fig.canvas.tostring_rgb(), dtype=np.uint8)\n"
     ]
    },
    {
     "data": {
      "text/html": [
       "\n",
       "      <progress\n",
       "          value='0'\n",
       "          max='0',\n",
       "          style='width: 100%'\n",
       "      >\n",
       "          0\n",
       "      </progress>\n",
       "  "
      ],
      "text/plain": [
       "<IPython.core.display.HTML object>"
      ]
     },
     "metadata": {},
     "output_type": "display_data"
    },
    {
     "name": "stderr",
     "output_type": "stream",
     "text": [
      "/var/folders/b7/2pb1l53973g403rx3dhyqb6m0000gn/T/ipykernel_15691/2693263076.py:162: MatplotlibDeprecationWarning: The tostring_rgb function was deprecated in Matplotlib 3.8 and will be removed in 3.10. Use buffer_rgba instead.\n",
      "  image_from_plot = np.frombuffer(fig.canvas.tostring_rgb(), dtype=np.uint8)\n"
     ]
    },
    {
     "data": {
      "text/html": [
       "\n",
       "      <progress\n",
       "          value='0'\n",
       "          max='0',\n",
       "          style='width: 100%'\n",
       "      >\n",
       "          0\n",
       "      </progress>\n",
       "  "
      ],
      "text/plain": [
       "<IPython.core.display.HTML object>"
      ]
     },
     "metadata": {},
     "output_type": "display_data"
    },
    {
     "name": "stderr",
     "output_type": "stream",
     "text": [
      "/var/folders/b7/2pb1l53973g403rx3dhyqb6m0000gn/T/ipykernel_15691/2693263076.py:162: MatplotlibDeprecationWarning: The tostring_rgb function was deprecated in Matplotlib 3.8 and will be removed in 3.10. Use buffer_rgba instead.\n",
      "  image_from_plot = np.frombuffer(fig.canvas.tostring_rgb(), dtype=np.uint8)\n"
     ]
    },
    {
     "data": {
      "text/html": [
       "\n",
       "      <progress\n",
       "          value='0'\n",
       "          max='0',\n",
       "          style='width: 100%'\n",
       "      >\n",
       "          0\n",
       "      </progress>\n",
       "  "
      ],
      "text/plain": [
       "<IPython.core.display.HTML object>"
      ]
     },
     "metadata": {},
     "output_type": "display_data"
    },
    {
     "name": "stderr",
     "output_type": "stream",
     "text": [
      "/var/folders/b7/2pb1l53973g403rx3dhyqb6m0000gn/T/ipykernel_15691/2693263076.py:162: MatplotlibDeprecationWarning: The tostring_rgb function was deprecated in Matplotlib 3.8 and will be removed in 3.10. Use buffer_rgba instead.\n",
      "  image_from_plot = np.frombuffer(fig.canvas.tostring_rgb(), dtype=np.uint8)\n"
     ]
    },
    {
     "data": {
      "text/html": [
       "\n",
       "      <progress\n",
       "          value='0'\n",
       "          max='0',\n",
       "          style='width: 100%'\n",
       "      >\n",
       "          0\n",
       "      </progress>\n",
       "  "
      ],
      "text/plain": [
       "<IPython.core.display.HTML object>"
      ]
     },
     "metadata": {},
     "output_type": "display_data"
    },
    {
     "name": "stderr",
     "output_type": "stream",
     "text": [
      "/var/folders/b7/2pb1l53973g403rx3dhyqb6m0000gn/T/ipykernel_15691/2693263076.py:162: MatplotlibDeprecationWarning: The tostring_rgb function was deprecated in Matplotlib 3.8 and will be removed in 3.10. Use buffer_rgba instead.\n",
      "  image_from_plot = np.frombuffer(fig.canvas.tostring_rgb(), dtype=np.uint8)\n"
     ]
    },
    {
     "data": {
      "text/html": [
       "\n",
       "      <progress\n",
       "          value='0'\n",
       "          max='0',\n",
       "          style='width: 100%'\n",
       "      >\n",
       "          0\n",
       "      </progress>\n",
       "  "
      ],
      "text/plain": [
       "<IPython.core.display.HTML object>"
      ]
     },
     "metadata": {},
     "output_type": "display_data"
    },
    {
     "name": "stderr",
     "output_type": "stream",
     "text": [
      "/var/folders/b7/2pb1l53973g403rx3dhyqb6m0000gn/T/ipykernel_15691/2693263076.py:162: MatplotlibDeprecationWarning: The tostring_rgb function was deprecated in Matplotlib 3.8 and will be removed in 3.10. Use buffer_rgba instead.\n",
      "  image_from_plot = np.frombuffer(fig.canvas.tostring_rgb(), dtype=np.uint8)\n"
     ]
    },
    {
     "data": {
      "text/html": [
       "\n",
       "      <progress\n",
       "          value='0'\n",
       "          max='0',\n",
       "          style='width: 100%'\n",
       "      >\n",
       "          0\n",
       "      </progress>\n",
       "  "
      ],
      "text/plain": [
       "<IPython.core.display.HTML object>"
      ]
     },
     "metadata": {},
     "output_type": "display_data"
    },
    {
     "name": "stderr",
     "output_type": "stream",
     "text": [
      "/var/folders/b7/2pb1l53973g403rx3dhyqb6m0000gn/T/ipykernel_15691/2693263076.py:162: MatplotlibDeprecationWarning: The tostring_rgb function was deprecated in Matplotlib 3.8 and will be removed in 3.10. Use buffer_rgba instead.\n",
      "  image_from_plot = np.frombuffer(fig.canvas.tostring_rgb(), dtype=np.uint8)\n"
     ]
    },
    {
     "data": {
      "text/html": [
       "\n",
       "      <progress\n",
       "          value='0'\n",
       "          max='0',\n",
       "          style='width: 100%'\n",
       "      >\n",
       "          0\n",
       "      </progress>\n",
       "  "
      ],
      "text/plain": [
       "<IPython.core.display.HTML object>"
      ]
     },
     "metadata": {},
     "output_type": "display_data"
    },
    {
     "name": "stderr",
     "output_type": "stream",
     "text": [
      "/var/folders/b7/2pb1l53973g403rx3dhyqb6m0000gn/T/ipykernel_15691/2693263076.py:162: MatplotlibDeprecationWarning: The tostring_rgb function was deprecated in Matplotlib 3.8 and will be removed in 3.10. Use buffer_rgba instead.\n",
      "  image_from_plot = np.frombuffer(fig.canvas.tostring_rgb(), dtype=np.uint8)\n"
     ]
    },
    {
     "data": {
      "text/html": [
       "\n",
       "      <progress\n",
       "          value='0'\n",
       "          max='0',\n",
       "          style='width: 100%'\n",
       "      >\n",
       "          0\n",
       "      </progress>\n",
       "  "
      ],
      "text/plain": [
       "<IPython.core.display.HTML object>"
      ]
     },
     "metadata": {},
     "output_type": "display_data"
    },
    {
     "name": "stderr",
     "output_type": "stream",
     "text": [
      "/var/folders/b7/2pb1l53973g403rx3dhyqb6m0000gn/T/ipykernel_15691/2693263076.py:162: MatplotlibDeprecationWarning: The tostring_rgb function was deprecated in Matplotlib 3.8 and will be removed in 3.10. Use buffer_rgba instead.\n",
      "  image_from_plot = np.frombuffer(fig.canvas.tostring_rgb(), dtype=np.uint8)\n"
     ]
    },
    {
     "data": {
      "text/html": [
       "\n",
       "      <progress\n",
       "          value='0'\n",
       "          max='0',\n",
       "          style='width: 100%'\n",
       "      >\n",
       "          0\n",
       "      </progress>\n",
       "  "
      ],
      "text/plain": [
       "<IPython.core.display.HTML object>"
      ]
     },
     "metadata": {},
     "output_type": "display_data"
    },
    {
     "name": "stderr",
     "output_type": "stream",
     "text": [
      "/var/folders/b7/2pb1l53973g403rx3dhyqb6m0000gn/T/ipykernel_15691/2693263076.py:162: MatplotlibDeprecationWarning: The tostring_rgb function was deprecated in Matplotlib 3.8 and will be removed in 3.10. Use buffer_rgba instead.\n",
      "  image_from_plot = np.frombuffer(fig.canvas.tostring_rgb(), dtype=np.uint8)\n"
     ]
    },
    {
     "data": {
      "text/html": [
       "\n",
       "      <progress\n",
       "          value='0'\n",
       "          max='0',\n",
       "          style='width: 100%'\n",
       "      >\n",
       "          0\n",
       "      </progress>\n",
       "  "
      ],
      "text/plain": [
       "<IPython.core.display.HTML object>"
      ]
     },
     "metadata": {},
     "output_type": "display_data"
    },
    {
     "name": "stderr",
     "output_type": "stream",
     "text": [
      "/var/folders/b7/2pb1l53973g403rx3dhyqb6m0000gn/T/ipykernel_15691/2693263076.py:162: MatplotlibDeprecationWarning: The tostring_rgb function was deprecated in Matplotlib 3.8 and will be removed in 3.10. Use buffer_rgba instead.\n",
      "  image_from_plot = np.frombuffer(fig.canvas.tostring_rgb(), dtype=np.uint8)\n"
     ]
    },
    {
     "data": {
      "text/html": [
       "\n",
       "      <progress\n",
       "          value='0'\n",
       "          max='0',\n",
       "          style='width: 100%'\n",
       "      >\n",
       "          0\n",
       "      </progress>\n",
       "  "
      ],
      "text/plain": [
       "<IPython.core.display.HTML object>"
      ]
     },
     "metadata": {},
     "output_type": "display_data"
    },
    {
     "name": "stderr",
     "output_type": "stream",
     "text": [
      "/var/folders/b7/2pb1l53973g403rx3dhyqb6m0000gn/T/ipykernel_15691/2693263076.py:162: MatplotlibDeprecationWarning: The tostring_rgb function was deprecated in Matplotlib 3.8 and will be removed in 3.10. Use buffer_rgba instead.\n",
      "  image_from_plot = np.frombuffer(fig.canvas.tostring_rgb(), dtype=np.uint8)\n"
     ]
    },
    {
     "data": {
      "text/html": [
       "\n",
       "      <progress\n",
       "          value='0'\n",
       "          max='0',\n",
       "          style='width: 100%'\n",
       "      >\n",
       "          0\n",
       "      </progress>\n",
       "  "
      ],
      "text/plain": [
       "<IPython.core.display.HTML object>"
      ]
     },
     "metadata": {},
     "output_type": "display_data"
    },
    {
     "name": "stderr",
     "output_type": "stream",
     "text": [
      "/var/folders/b7/2pb1l53973g403rx3dhyqb6m0000gn/T/ipykernel_15691/2693263076.py:162: MatplotlibDeprecationWarning: The tostring_rgb function was deprecated in Matplotlib 3.8 and will be removed in 3.10. Use buffer_rgba instead.\n",
      "  image_from_plot = np.frombuffer(fig.canvas.tostring_rgb(), dtype=np.uint8)\n"
     ]
    },
    {
     "data": {
      "text/html": [
       "\n",
       "      <progress\n",
       "          value='0'\n",
       "          max='0',\n",
       "          style='width: 100%'\n",
       "      >\n",
       "          0\n",
       "      </progress>\n",
       "  "
      ],
      "text/plain": [
       "<IPython.core.display.HTML object>"
      ]
     },
     "metadata": {},
     "output_type": "display_data"
    },
    {
     "name": "stderr",
     "output_type": "stream",
     "text": [
      "/var/folders/b7/2pb1l53973g403rx3dhyqb6m0000gn/T/ipykernel_15691/2693263076.py:162: MatplotlibDeprecationWarning: The tostring_rgb function was deprecated in Matplotlib 3.8 and will be removed in 3.10. Use buffer_rgba instead.\n",
      "  image_from_plot = np.frombuffer(fig.canvas.tostring_rgb(), dtype=np.uint8)\n"
     ]
    },
    {
     "data": {
      "text/html": [
       "\n",
       "      <progress\n",
       "          value='0'\n",
       "          max='0',\n",
       "          style='width: 100%'\n",
       "      >\n",
       "          0\n",
       "      </progress>\n",
       "  "
      ],
      "text/plain": [
       "<IPython.core.display.HTML object>"
      ]
     },
     "metadata": {},
     "output_type": "display_data"
    },
    {
     "name": "stderr",
     "output_type": "stream",
     "text": [
      "/var/folders/b7/2pb1l53973g403rx3dhyqb6m0000gn/T/ipykernel_15691/2693263076.py:162: MatplotlibDeprecationWarning: The tostring_rgb function was deprecated in Matplotlib 3.8 and will be removed in 3.10. Use buffer_rgba instead.\n",
      "  image_from_plot = np.frombuffer(fig.canvas.tostring_rgb(), dtype=np.uint8)\n"
     ]
    },
    {
     "data": {
      "text/html": [
       "\n",
       "      <progress\n",
       "          value='0'\n",
       "          max='0',\n",
       "          style='width: 100%'\n",
       "      >\n",
       "          0\n",
       "      </progress>\n",
       "  "
      ],
      "text/plain": [
       "<IPython.core.display.HTML object>"
      ]
     },
     "metadata": {},
     "output_type": "display_data"
    },
    {
     "name": "stderr",
     "output_type": "stream",
     "text": [
      "/var/folders/b7/2pb1l53973g403rx3dhyqb6m0000gn/T/ipykernel_15691/2693263076.py:162: MatplotlibDeprecationWarning: The tostring_rgb function was deprecated in Matplotlib 3.8 and will be removed in 3.10. Use buffer_rgba instead.\n",
      "  image_from_plot = np.frombuffer(fig.canvas.tostring_rgb(), dtype=np.uint8)\n"
     ]
    },
    {
     "data": {
      "text/html": [
       "\n",
       "      <progress\n",
       "          value='0'\n",
       "          max='0',\n",
       "          style='width: 100%'\n",
       "      >\n",
       "          0\n",
       "      </progress>\n",
       "  "
      ],
      "text/plain": [
       "<IPython.core.display.HTML object>"
      ]
     },
     "metadata": {},
     "output_type": "display_data"
    },
    {
     "name": "stderr",
     "output_type": "stream",
     "text": [
      "/var/folders/b7/2pb1l53973g403rx3dhyqb6m0000gn/T/ipykernel_15691/2693263076.py:162: MatplotlibDeprecationWarning: The tostring_rgb function was deprecated in Matplotlib 3.8 and will be removed in 3.10. Use buffer_rgba instead.\n",
      "  image_from_plot = np.frombuffer(fig.canvas.tostring_rgb(), dtype=np.uint8)\n"
     ]
    },
    {
     "data": {
      "text/html": [
       "\n",
       "      <progress\n",
       "          value='0'\n",
       "          max='0',\n",
       "          style='width: 100%'\n",
       "      >\n",
       "          0\n",
       "      </progress>\n",
       "  "
      ],
      "text/plain": [
       "<IPython.core.display.HTML object>"
      ]
     },
     "metadata": {},
     "output_type": "display_data"
    },
    {
     "name": "stderr",
     "output_type": "stream",
     "text": [
      "/var/folders/b7/2pb1l53973g403rx3dhyqb6m0000gn/T/ipykernel_15691/2693263076.py:162: MatplotlibDeprecationWarning: The tostring_rgb function was deprecated in Matplotlib 3.8 and will be removed in 3.10. Use buffer_rgba instead.\n",
      "  image_from_plot = np.frombuffer(fig.canvas.tostring_rgb(), dtype=np.uint8)\n"
     ]
    },
    {
     "data": {
      "text/html": [
       "\n",
       "      <progress\n",
       "          value='0'\n",
       "          max='0',\n",
       "          style='width: 100%'\n",
       "      >\n",
       "          0\n",
       "      </progress>\n",
       "  "
      ],
      "text/plain": [
       "<IPython.core.display.HTML object>"
      ]
     },
     "metadata": {},
     "output_type": "display_data"
    },
    {
     "name": "stderr",
     "output_type": "stream",
     "text": [
      "/var/folders/b7/2pb1l53973g403rx3dhyqb6m0000gn/T/ipykernel_15691/2693263076.py:162: MatplotlibDeprecationWarning: The tostring_rgb function was deprecated in Matplotlib 3.8 and will be removed in 3.10. Use buffer_rgba instead.\n",
      "  image_from_plot = np.frombuffer(fig.canvas.tostring_rgb(), dtype=np.uint8)\n"
     ]
    },
    {
     "data": {
      "text/html": [
       "\n",
       "      <progress\n",
       "          value='0'\n",
       "          max='0',\n",
       "          style='width: 100%'\n",
       "      >\n",
       "          0\n",
       "      </progress>\n",
       "  "
      ],
      "text/plain": [
       "<IPython.core.display.HTML object>"
      ]
     },
     "metadata": {},
     "output_type": "display_data"
    },
    {
     "name": "stderr",
     "output_type": "stream",
     "text": [
      "/var/folders/b7/2pb1l53973g403rx3dhyqb6m0000gn/T/ipykernel_15691/2693263076.py:162: MatplotlibDeprecationWarning: The tostring_rgb function was deprecated in Matplotlib 3.8 and will be removed in 3.10. Use buffer_rgba instead.\n",
      "  image_from_plot = np.frombuffer(fig.canvas.tostring_rgb(), dtype=np.uint8)\n"
     ]
    },
    {
     "data": {
      "text/html": [
       "\n",
       "      <progress\n",
       "          value='0'\n",
       "          max='0',\n",
       "          style='width: 100%'\n",
       "      >\n",
       "          0\n",
       "      </progress>\n",
       "  "
      ],
      "text/plain": [
       "<IPython.core.display.HTML object>"
      ]
     },
     "metadata": {},
     "output_type": "display_data"
    },
    {
     "name": "stderr",
     "output_type": "stream",
     "text": [
      "/var/folders/b7/2pb1l53973g403rx3dhyqb6m0000gn/T/ipykernel_15691/2693263076.py:162: MatplotlibDeprecationWarning: The tostring_rgb function was deprecated in Matplotlib 3.8 and will be removed in 3.10. Use buffer_rgba instead.\n",
      "  image_from_plot = np.frombuffer(fig.canvas.tostring_rgb(), dtype=np.uint8)\n"
     ]
    },
    {
     "data": {
      "text/html": [
       "\n",
       "      <progress\n",
       "          value='0'\n",
       "          max='0',\n",
       "          style='width: 100%'\n",
       "      >\n",
       "          0\n",
       "      </progress>\n",
       "  "
      ],
      "text/plain": [
       "<IPython.core.display.HTML object>"
      ]
     },
     "metadata": {},
     "output_type": "display_data"
    },
    {
     "name": "stderr",
     "output_type": "stream",
     "text": [
      "/var/folders/b7/2pb1l53973g403rx3dhyqb6m0000gn/T/ipykernel_15691/2693263076.py:162: MatplotlibDeprecationWarning: The tostring_rgb function was deprecated in Matplotlib 3.8 and will be removed in 3.10. Use buffer_rgba instead.\n",
      "  image_from_plot = np.frombuffer(fig.canvas.tostring_rgb(), dtype=np.uint8)\n"
     ]
    },
    {
     "data": {
      "text/html": [
       "\n",
       "      <progress\n",
       "          value='0'\n",
       "          max='0',\n",
       "          style='width: 100%'\n",
       "      >\n",
       "          0\n",
       "      </progress>\n",
       "  "
      ],
      "text/plain": [
       "<IPython.core.display.HTML object>"
      ]
     },
     "metadata": {},
     "output_type": "display_data"
    },
    {
     "name": "stderr",
     "output_type": "stream",
     "text": [
      "/var/folders/b7/2pb1l53973g403rx3dhyqb6m0000gn/T/ipykernel_15691/2693263076.py:162: MatplotlibDeprecationWarning: The tostring_rgb function was deprecated in Matplotlib 3.8 and will be removed in 3.10. Use buffer_rgba instead.\n",
      "  image_from_plot = np.frombuffer(fig.canvas.tostring_rgb(), dtype=np.uint8)\n"
     ]
    },
    {
     "data": {
      "text/html": [
       "\n",
       "      <progress\n",
       "          value='0'\n",
       "          max='0',\n",
       "          style='width: 100%'\n",
       "      >\n",
       "          0\n",
       "      </progress>\n",
       "  "
      ],
      "text/plain": [
       "<IPython.core.display.HTML object>"
      ]
     },
     "metadata": {},
     "output_type": "display_data"
    },
    {
     "name": "stderr",
     "output_type": "stream",
     "text": [
      "/var/folders/b7/2pb1l53973g403rx3dhyqb6m0000gn/T/ipykernel_15691/2693263076.py:162: MatplotlibDeprecationWarning: The tostring_rgb function was deprecated in Matplotlib 3.8 and will be removed in 3.10. Use buffer_rgba instead.\n",
      "  image_from_plot = np.frombuffer(fig.canvas.tostring_rgb(), dtype=np.uint8)\n"
     ]
    },
    {
     "data": {
      "text/html": [
       "\n",
       "      <progress\n",
       "          value='0'\n",
       "          max='0',\n",
       "          style='width: 100%'\n",
       "      >\n",
       "          0\n",
       "      </progress>\n",
       "  "
      ],
      "text/plain": [
       "<IPython.core.display.HTML object>"
      ]
     },
     "metadata": {},
     "output_type": "display_data"
    },
    {
     "name": "stderr",
     "output_type": "stream",
     "text": [
      "/var/folders/b7/2pb1l53973g403rx3dhyqb6m0000gn/T/ipykernel_15691/2693263076.py:162: MatplotlibDeprecationWarning: The tostring_rgb function was deprecated in Matplotlib 3.8 and will be removed in 3.10. Use buffer_rgba instead.\n",
      "  image_from_plot = np.frombuffer(fig.canvas.tostring_rgb(), dtype=np.uint8)\n"
     ]
    },
    {
     "data": {
      "text/html": [
       "\n",
       "      <progress\n",
       "          value='0'\n",
       "          max='0',\n",
       "          style='width: 100%'\n",
       "      >\n",
       "          0\n",
       "      </progress>\n",
       "  "
      ],
      "text/plain": [
       "<IPython.core.display.HTML object>"
      ]
     },
     "metadata": {},
     "output_type": "display_data"
    },
    {
     "name": "stderr",
     "output_type": "stream",
     "text": [
      "/var/folders/b7/2pb1l53973g403rx3dhyqb6m0000gn/T/ipykernel_15691/2693263076.py:162: MatplotlibDeprecationWarning: The tostring_rgb function was deprecated in Matplotlib 3.8 and will be removed in 3.10. Use buffer_rgba instead.\n",
      "  image_from_plot = np.frombuffer(fig.canvas.tostring_rgb(), dtype=np.uint8)\n"
     ]
    },
    {
     "data": {
      "text/html": [
       "\n",
       "      <progress\n",
       "          value='0'\n",
       "          max='0',\n",
       "          style='width: 100%'\n",
       "      >\n",
       "          0\n",
       "      </progress>\n",
       "  "
      ],
      "text/plain": [
       "<IPython.core.display.HTML object>"
      ]
     },
     "metadata": {},
     "output_type": "display_data"
    },
    {
     "name": "stderr",
     "output_type": "stream",
     "text": [
      "/var/folders/b7/2pb1l53973g403rx3dhyqb6m0000gn/T/ipykernel_15691/2693263076.py:162: MatplotlibDeprecationWarning: The tostring_rgb function was deprecated in Matplotlib 3.8 and will be removed in 3.10. Use buffer_rgba instead.\n",
      "  image_from_plot = np.frombuffer(fig.canvas.tostring_rgb(), dtype=np.uint8)\n"
     ]
    },
    {
     "data": {
      "text/html": [
       "\n",
       "      <progress\n",
       "          value='0'\n",
       "          max='0',\n",
       "          style='width: 100%'\n",
       "      >\n",
       "          0\n",
       "      </progress>\n",
       "  "
      ],
      "text/plain": [
       "<IPython.core.display.HTML object>"
      ]
     },
     "metadata": {},
     "output_type": "display_data"
    },
    {
     "name": "stderr",
     "output_type": "stream",
     "text": [
      "/var/folders/b7/2pb1l53973g403rx3dhyqb6m0000gn/T/ipykernel_15691/2693263076.py:162: MatplotlibDeprecationWarning: The tostring_rgb function was deprecated in Matplotlib 3.8 and will be removed in 3.10. Use buffer_rgba instead.\n",
      "  image_from_plot = np.frombuffer(fig.canvas.tostring_rgb(), dtype=np.uint8)\n"
     ]
    },
    {
     "data": {
      "text/html": [
       "\n",
       "      <progress\n",
       "          value='0'\n",
       "          max='0',\n",
       "          style='width: 100%'\n",
       "      >\n",
       "          0\n",
       "      </progress>\n",
       "  "
      ],
      "text/plain": [
       "<IPython.core.display.HTML object>"
      ]
     },
     "metadata": {},
     "output_type": "display_data"
    },
    {
     "name": "stderr",
     "output_type": "stream",
     "text": [
      "/var/folders/b7/2pb1l53973g403rx3dhyqb6m0000gn/T/ipykernel_15691/2693263076.py:162: MatplotlibDeprecationWarning: The tostring_rgb function was deprecated in Matplotlib 3.8 and will be removed in 3.10. Use buffer_rgba instead.\n",
      "  image_from_plot = np.frombuffer(fig.canvas.tostring_rgb(), dtype=np.uint8)\n"
     ]
    },
    {
     "data": {
      "text/html": [
       "\n",
       "      <progress\n",
       "          value='0'\n",
       "          max='0',\n",
       "          style='width: 100%'\n",
       "      >\n",
       "          0\n",
       "      </progress>\n",
       "  "
      ],
      "text/plain": [
       "<IPython.core.display.HTML object>"
      ]
     },
     "metadata": {},
     "output_type": "display_data"
    },
    {
     "name": "stderr",
     "output_type": "stream",
     "text": [
      "/var/folders/b7/2pb1l53973g403rx3dhyqb6m0000gn/T/ipykernel_15691/2693263076.py:162: MatplotlibDeprecationWarning: The tostring_rgb function was deprecated in Matplotlib 3.8 and will be removed in 3.10. Use buffer_rgba instead.\n",
      "  image_from_plot = np.frombuffer(fig.canvas.tostring_rgb(), dtype=np.uint8)\n"
     ]
    },
    {
     "data": {
      "text/html": [
       "\n",
       "      <progress\n",
       "          value='0'\n",
       "          max='0',\n",
       "          style='width: 100%'\n",
       "      >\n",
       "          0\n",
       "      </progress>\n",
       "  "
      ],
      "text/plain": [
       "<IPython.core.display.HTML object>"
      ]
     },
     "metadata": {},
     "output_type": "display_data"
    },
    {
     "name": "stderr",
     "output_type": "stream",
     "text": [
      "/var/folders/b7/2pb1l53973g403rx3dhyqb6m0000gn/T/ipykernel_15691/2693263076.py:162: MatplotlibDeprecationWarning: The tostring_rgb function was deprecated in Matplotlib 3.8 and will be removed in 3.10. Use buffer_rgba instead.\n",
      "  image_from_plot = np.frombuffer(fig.canvas.tostring_rgb(), dtype=np.uint8)\n"
     ]
    },
    {
     "data": {
      "text/html": [
       "\n",
       "      <progress\n",
       "          value='0'\n",
       "          max='0',\n",
       "          style='width: 100%'\n",
       "      >\n",
       "          0\n",
       "      </progress>\n",
       "  "
      ],
      "text/plain": [
       "<IPython.core.display.HTML object>"
      ]
     },
     "metadata": {},
     "output_type": "display_data"
    },
    {
     "name": "stderr",
     "output_type": "stream",
     "text": [
      "/var/folders/b7/2pb1l53973g403rx3dhyqb6m0000gn/T/ipykernel_15691/2693263076.py:162: MatplotlibDeprecationWarning: The tostring_rgb function was deprecated in Matplotlib 3.8 and will be removed in 3.10. Use buffer_rgba instead.\n",
      "  image_from_plot = np.frombuffer(fig.canvas.tostring_rgb(), dtype=np.uint8)\n"
     ]
    },
    {
     "data": {
      "text/html": [
       "\n",
       "      <progress\n",
       "          value='0'\n",
       "          max='0',\n",
       "          style='width: 100%'\n",
       "      >\n",
       "          0\n",
       "      </progress>\n",
       "  "
      ],
      "text/plain": [
       "<IPython.core.display.HTML object>"
      ]
     },
     "metadata": {},
     "output_type": "display_data"
    },
    {
     "name": "stderr",
     "output_type": "stream",
     "text": [
      "/var/folders/b7/2pb1l53973g403rx3dhyqb6m0000gn/T/ipykernel_15691/2693263076.py:162: MatplotlibDeprecationWarning: The tostring_rgb function was deprecated in Matplotlib 3.8 and will be removed in 3.10. Use buffer_rgba instead.\n",
      "  image_from_plot = np.frombuffer(fig.canvas.tostring_rgb(), dtype=np.uint8)\n"
     ]
    },
    {
     "data": {
      "text/html": [
       "\n",
       "      <progress\n",
       "          value='0'\n",
       "          max='0',\n",
       "          style='width: 100%'\n",
       "      >\n",
       "          0\n",
       "      </progress>\n",
       "  "
      ],
      "text/plain": [
       "<IPython.core.display.HTML object>"
      ]
     },
     "metadata": {},
     "output_type": "display_data"
    },
    {
     "name": "stderr",
     "output_type": "stream",
     "text": [
      "/var/folders/b7/2pb1l53973g403rx3dhyqb6m0000gn/T/ipykernel_15691/2693263076.py:162: MatplotlibDeprecationWarning: The tostring_rgb function was deprecated in Matplotlib 3.8 and will be removed in 3.10. Use buffer_rgba instead.\n",
      "  image_from_plot = np.frombuffer(fig.canvas.tostring_rgb(), dtype=np.uint8)\n"
     ]
    },
    {
     "data": {
      "text/html": [
       "\n",
       "      <progress\n",
       "          value='0'\n",
       "          max='0',\n",
       "          style='width: 100%'\n",
       "      >\n",
       "          0\n",
       "      </progress>\n",
       "  "
      ],
      "text/plain": [
       "<IPython.core.display.HTML object>"
      ]
     },
     "metadata": {},
     "output_type": "display_data"
    },
    {
     "name": "stderr",
     "output_type": "stream",
     "text": [
      "/var/folders/b7/2pb1l53973g403rx3dhyqb6m0000gn/T/ipykernel_15691/2693263076.py:162: MatplotlibDeprecationWarning: The tostring_rgb function was deprecated in Matplotlib 3.8 and will be removed in 3.10. Use buffer_rgba instead.\n",
      "  image_from_plot = np.frombuffer(fig.canvas.tostring_rgb(), dtype=np.uint8)\n"
     ]
    },
    {
     "data": {
      "text/html": [
       "\n",
       "      <progress\n",
       "          value='0'\n",
       "          max='0',\n",
       "          style='width: 100%'\n",
       "      >\n",
       "          0\n",
       "      </progress>\n",
       "  "
      ],
      "text/plain": [
       "<IPython.core.display.HTML object>"
      ]
     },
     "metadata": {},
     "output_type": "display_data"
    },
    {
     "name": "stderr",
     "output_type": "stream",
     "text": [
      "/var/folders/b7/2pb1l53973g403rx3dhyqb6m0000gn/T/ipykernel_15691/2693263076.py:162: MatplotlibDeprecationWarning: The tostring_rgb function was deprecated in Matplotlib 3.8 and will be removed in 3.10. Use buffer_rgba instead.\n",
      "  image_from_plot = np.frombuffer(fig.canvas.tostring_rgb(), dtype=np.uint8)\n"
     ]
    },
    {
     "data": {
      "text/html": [
       "\n",
       "      <progress\n",
       "          value='0'\n",
       "          max='0',\n",
       "          style='width: 100%'\n",
       "      >\n",
       "          0\n",
       "      </progress>\n",
       "  "
      ],
      "text/plain": [
       "<IPython.core.display.HTML object>"
      ]
     },
     "metadata": {},
     "output_type": "display_data"
    },
    {
     "name": "stderr",
     "output_type": "stream",
     "text": [
      "/var/folders/b7/2pb1l53973g403rx3dhyqb6m0000gn/T/ipykernel_15691/2693263076.py:162: MatplotlibDeprecationWarning: The tostring_rgb function was deprecated in Matplotlib 3.8 and will be removed in 3.10. Use buffer_rgba instead.\n",
      "  image_from_plot = np.frombuffer(fig.canvas.tostring_rgb(), dtype=np.uint8)\n"
     ]
    },
    {
     "data": {
      "text/html": [
       "\n",
       "      <progress\n",
       "          value='0'\n",
       "          max='0',\n",
       "          style='width: 100%'\n",
       "      >\n",
       "          0\n",
       "      </progress>\n",
       "  "
      ],
      "text/plain": [
       "<IPython.core.display.HTML object>"
      ]
     },
     "metadata": {},
     "output_type": "display_data"
    },
    {
     "name": "stderr",
     "output_type": "stream",
     "text": [
      "/var/folders/b7/2pb1l53973g403rx3dhyqb6m0000gn/T/ipykernel_15691/2693263076.py:162: MatplotlibDeprecationWarning: The tostring_rgb function was deprecated in Matplotlib 3.8 and will be removed in 3.10. Use buffer_rgba instead.\n",
      "  image_from_plot = np.frombuffer(fig.canvas.tostring_rgb(), dtype=np.uint8)\n"
     ]
    },
    {
     "data": {
      "text/html": [
       "\n",
       "      <progress\n",
       "          value='0'\n",
       "          max='0',\n",
       "          style='width: 100%'\n",
       "      >\n",
       "          0\n",
       "      </progress>\n",
       "  "
      ],
      "text/plain": [
       "<IPython.core.display.HTML object>"
      ]
     },
     "metadata": {},
     "output_type": "display_data"
    },
    {
     "name": "stderr",
     "output_type": "stream",
     "text": [
      "/var/folders/b7/2pb1l53973g403rx3dhyqb6m0000gn/T/ipykernel_15691/2693263076.py:162: MatplotlibDeprecationWarning: The tostring_rgb function was deprecated in Matplotlib 3.8 and will be removed in 3.10. Use buffer_rgba instead.\n",
      "  image_from_plot = np.frombuffer(fig.canvas.tostring_rgb(), dtype=np.uint8)\n"
     ]
    },
    {
     "data": {
      "text/html": [
       "\n",
       "      <progress\n",
       "          value='0'\n",
       "          max='0',\n",
       "          style='width: 100%'\n",
       "      >\n",
       "          0\n",
       "      </progress>\n",
       "  "
      ],
      "text/plain": [
       "<IPython.core.display.HTML object>"
      ]
     },
     "metadata": {},
     "output_type": "display_data"
    },
    {
     "name": "stderr",
     "output_type": "stream",
     "text": [
      "/var/folders/b7/2pb1l53973g403rx3dhyqb6m0000gn/T/ipykernel_15691/2693263076.py:162: MatplotlibDeprecationWarning: The tostring_rgb function was deprecated in Matplotlib 3.8 and will be removed in 3.10. Use buffer_rgba instead.\n",
      "  image_from_plot = np.frombuffer(fig.canvas.tostring_rgb(), dtype=np.uint8)\n"
     ]
    },
    {
     "data": {
      "text/html": [
       "\n",
       "      <progress\n",
       "          value='0'\n",
       "          max='0',\n",
       "          style='width: 100%'\n",
       "      >\n",
       "          0\n",
       "      </progress>\n",
       "  "
      ],
      "text/plain": [
       "<IPython.core.display.HTML object>"
      ]
     },
     "metadata": {},
     "output_type": "display_data"
    },
    {
     "name": "stderr",
     "output_type": "stream",
     "text": [
      "/var/folders/b7/2pb1l53973g403rx3dhyqb6m0000gn/T/ipykernel_15691/2693263076.py:162: MatplotlibDeprecationWarning: The tostring_rgb function was deprecated in Matplotlib 3.8 and will be removed in 3.10. Use buffer_rgba instead.\n",
      "  image_from_plot = np.frombuffer(fig.canvas.tostring_rgb(), dtype=np.uint8)\n"
     ]
    },
    {
     "data": {
      "text/html": [
       "\n",
       "      <progress\n",
       "          value='0'\n",
       "          max='0',\n",
       "          style='width: 100%'\n",
       "      >\n",
       "          0\n",
       "      </progress>\n",
       "  "
      ],
      "text/plain": [
       "<IPython.core.display.HTML object>"
      ]
     },
     "metadata": {},
     "output_type": "display_data"
    },
    {
     "name": "stderr",
     "output_type": "stream",
     "text": [
      "/var/folders/b7/2pb1l53973g403rx3dhyqb6m0000gn/T/ipykernel_15691/2693263076.py:162: MatplotlibDeprecationWarning: The tostring_rgb function was deprecated in Matplotlib 3.8 and will be removed in 3.10. Use buffer_rgba instead.\n",
      "  image_from_plot = np.frombuffer(fig.canvas.tostring_rgb(), dtype=np.uint8)\n"
     ]
    },
    {
     "data": {
      "text/html": [
       "\n",
       "      <progress\n",
       "          value='0'\n",
       "          max='0',\n",
       "          style='width: 100%'\n",
       "      >\n",
       "          0\n",
       "      </progress>\n",
       "  "
      ],
      "text/plain": [
       "<IPython.core.display.HTML object>"
      ]
     },
     "metadata": {},
     "output_type": "display_data"
    },
    {
     "name": "stderr",
     "output_type": "stream",
     "text": [
      "/var/folders/b7/2pb1l53973g403rx3dhyqb6m0000gn/T/ipykernel_15691/2693263076.py:162: MatplotlibDeprecationWarning: The tostring_rgb function was deprecated in Matplotlib 3.8 and will be removed in 3.10. Use buffer_rgba instead.\n",
      "  image_from_plot = np.frombuffer(fig.canvas.tostring_rgb(), dtype=np.uint8)\n"
     ]
    },
    {
     "data": {
      "text/html": [
       "\n",
       "      <progress\n",
       "          value='0'\n",
       "          max='0',\n",
       "          style='width: 100%'\n",
       "      >\n",
       "          0\n",
       "      </progress>\n",
       "  "
      ],
      "text/plain": [
       "<IPython.core.display.HTML object>"
      ]
     },
     "metadata": {},
     "output_type": "display_data"
    },
    {
     "name": "stderr",
     "output_type": "stream",
     "text": [
      "/var/folders/b7/2pb1l53973g403rx3dhyqb6m0000gn/T/ipykernel_15691/2693263076.py:162: MatplotlibDeprecationWarning: The tostring_rgb function was deprecated in Matplotlib 3.8 and will be removed in 3.10. Use buffer_rgba instead.\n",
      "  image_from_plot = np.frombuffer(fig.canvas.tostring_rgb(), dtype=np.uint8)\n"
     ]
    },
    {
     "data": {
      "text/html": [
       "\n",
       "      <progress\n",
       "          value='0'\n",
       "          max='0',\n",
       "          style='width: 100%'\n",
       "      >\n",
       "          0\n",
       "      </progress>\n",
       "  "
      ],
      "text/plain": [
       "<IPython.core.display.HTML object>"
      ]
     },
     "metadata": {},
     "output_type": "display_data"
    },
    {
     "name": "stderr",
     "output_type": "stream",
     "text": [
      "/var/folders/b7/2pb1l53973g403rx3dhyqb6m0000gn/T/ipykernel_15691/2693263076.py:162: MatplotlibDeprecationWarning: The tostring_rgb function was deprecated in Matplotlib 3.8 and will be removed in 3.10. Use buffer_rgba instead.\n",
      "  image_from_plot = np.frombuffer(fig.canvas.tostring_rgb(), dtype=np.uint8)\n"
     ]
    },
    {
     "data": {
      "text/html": [
       "\n",
       "      <progress\n",
       "          value='0'\n",
       "          max='0',\n",
       "          style='width: 100%'\n",
       "      >\n",
       "          0\n",
       "      </progress>\n",
       "  "
      ],
      "text/plain": [
       "<IPython.core.display.HTML object>"
      ]
     },
     "metadata": {},
     "output_type": "display_data"
    },
    {
     "name": "stderr",
     "output_type": "stream",
     "text": [
      "/var/folders/b7/2pb1l53973g403rx3dhyqb6m0000gn/T/ipykernel_15691/2693263076.py:162: MatplotlibDeprecationWarning: The tostring_rgb function was deprecated in Matplotlib 3.8 and will be removed in 3.10. Use buffer_rgba instead.\n",
      "  image_from_plot = np.frombuffer(fig.canvas.tostring_rgb(), dtype=np.uint8)\n"
     ]
    },
    {
     "data": {
      "text/html": [
       "\n",
       "      <progress\n",
       "          value='0'\n",
       "          max='0',\n",
       "          style='width: 100%'\n",
       "      >\n",
       "          0\n",
       "      </progress>\n",
       "  "
      ],
      "text/plain": [
       "<IPython.core.display.HTML object>"
      ]
     },
     "metadata": {},
     "output_type": "display_data"
    },
    {
     "name": "stderr",
     "output_type": "stream",
     "text": [
      "/var/folders/b7/2pb1l53973g403rx3dhyqb6m0000gn/T/ipykernel_15691/2693263076.py:162: MatplotlibDeprecationWarning: The tostring_rgb function was deprecated in Matplotlib 3.8 and will be removed in 3.10. Use buffer_rgba instead.\n",
      "  image_from_plot = np.frombuffer(fig.canvas.tostring_rgb(), dtype=np.uint8)\n"
     ]
    },
    {
     "data": {
      "text/html": [
       "\n",
       "      <progress\n",
       "          value='0'\n",
       "          max='0',\n",
       "          style='width: 100%'\n",
       "      >\n",
       "          0\n",
       "      </progress>\n",
       "  "
      ],
      "text/plain": [
       "<IPython.core.display.HTML object>"
      ]
     },
     "metadata": {},
     "output_type": "display_data"
    },
    {
     "name": "stderr",
     "output_type": "stream",
     "text": [
      "/var/folders/b7/2pb1l53973g403rx3dhyqb6m0000gn/T/ipykernel_15691/2693263076.py:162: MatplotlibDeprecationWarning: The tostring_rgb function was deprecated in Matplotlib 3.8 and will be removed in 3.10. Use buffer_rgba instead.\n",
      "  image_from_plot = np.frombuffer(fig.canvas.tostring_rgb(), dtype=np.uint8)\n"
     ]
    },
    {
     "data": {
      "text/html": [
       "\n",
       "      <progress\n",
       "          value='0'\n",
       "          max='0',\n",
       "          style='width: 100%'\n",
       "      >\n",
       "          0\n",
       "      </progress>\n",
       "  "
      ],
      "text/plain": [
       "<IPython.core.display.HTML object>"
      ]
     },
     "metadata": {},
     "output_type": "display_data"
    },
    {
     "name": "stderr",
     "output_type": "stream",
     "text": [
      "/var/folders/b7/2pb1l53973g403rx3dhyqb6m0000gn/T/ipykernel_15691/2693263076.py:162: MatplotlibDeprecationWarning: The tostring_rgb function was deprecated in Matplotlib 3.8 and will be removed in 3.10. Use buffer_rgba instead.\n",
      "  image_from_plot = np.frombuffer(fig.canvas.tostring_rgb(), dtype=np.uint8)\n"
     ]
    },
    {
     "data": {
      "text/html": [
       "\n",
       "      <progress\n",
       "          value='0'\n",
       "          max='0',\n",
       "          style='width: 100%'\n",
       "      >\n",
       "          0\n",
       "      </progress>\n",
       "  "
      ],
      "text/plain": [
       "<IPython.core.display.HTML object>"
      ]
     },
     "metadata": {},
     "output_type": "display_data"
    },
    {
     "name": "stderr",
     "output_type": "stream",
     "text": [
      "/var/folders/b7/2pb1l53973g403rx3dhyqb6m0000gn/T/ipykernel_15691/2693263076.py:162: MatplotlibDeprecationWarning: The tostring_rgb function was deprecated in Matplotlib 3.8 and will be removed in 3.10. Use buffer_rgba instead.\n",
      "  image_from_plot = np.frombuffer(fig.canvas.tostring_rgb(), dtype=np.uint8)\n"
     ]
    },
    {
     "data": {
      "text/html": [
       "\n",
       "      <progress\n",
       "          value='0'\n",
       "          max='0',\n",
       "          style='width: 100%'\n",
       "      >\n",
       "          0\n",
       "      </progress>\n",
       "  "
      ],
      "text/plain": [
       "<IPython.core.display.HTML object>"
      ]
     },
     "metadata": {},
     "output_type": "display_data"
    },
    {
     "name": "stderr",
     "output_type": "stream",
     "text": [
      "/var/folders/b7/2pb1l53973g403rx3dhyqb6m0000gn/T/ipykernel_15691/2693263076.py:162: MatplotlibDeprecationWarning: The tostring_rgb function was deprecated in Matplotlib 3.8 and will be removed in 3.10. Use buffer_rgba instead.\n",
      "  image_from_plot = np.frombuffer(fig.canvas.tostring_rgb(), dtype=np.uint8)\n"
     ]
    },
    {
     "data": {
      "text/html": [
       "\n",
       "      <progress\n",
       "          value='0'\n",
       "          max='0',\n",
       "          style='width: 100%'\n",
       "      >\n",
       "          0\n",
       "      </progress>\n",
       "  "
      ],
      "text/plain": [
       "<IPython.core.display.HTML object>"
      ]
     },
     "metadata": {},
     "output_type": "display_data"
    },
    {
     "name": "stderr",
     "output_type": "stream",
     "text": [
      "/var/folders/b7/2pb1l53973g403rx3dhyqb6m0000gn/T/ipykernel_15691/2693263076.py:162: MatplotlibDeprecationWarning: The tostring_rgb function was deprecated in Matplotlib 3.8 and will be removed in 3.10. Use buffer_rgba instead.\n",
      "  image_from_plot = np.frombuffer(fig.canvas.tostring_rgb(), dtype=np.uint8)\n"
     ]
    },
    {
     "data": {
      "text/html": [
       "\n",
       "      <progress\n",
       "          value='0'\n",
       "          max='0',\n",
       "          style='width: 100%'\n",
       "      >\n",
       "          0\n",
       "      </progress>\n",
       "  "
      ],
      "text/plain": [
       "<IPython.core.display.HTML object>"
      ]
     },
     "metadata": {},
     "output_type": "display_data"
    },
    {
     "name": "stderr",
     "output_type": "stream",
     "text": [
      "/var/folders/b7/2pb1l53973g403rx3dhyqb6m0000gn/T/ipykernel_15691/2693263076.py:162: MatplotlibDeprecationWarning: The tostring_rgb function was deprecated in Matplotlib 3.8 and will be removed in 3.10. Use buffer_rgba instead.\n",
      "  image_from_plot = np.frombuffer(fig.canvas.tostring_rgb(), dtype=np.uint8)\n"
     ]
    },
    {
     "data": {
      "text/html": [
       "\n",
       "      <progress\n",
       "          value='0'\n",
       "          max='0',\n",
       "          style='width: 100%'\n",
       "      >\n",
       "          0\n",
       "      </progress>\n",
       "  "
      ],
      "text/plain": [
       "<IPython.core.display.HTML object>"
      ]
     },
     "metadata": {},
     "output_type": "display_data"
    },
    {
     "name": "stderr",
     "output_type": "stream",
     "text": [
      "/var/folders/b7/2pb1l53973g403rx3dhyqb6m0000gn/T/ipykernel_15691/2693263076.py:162: MatplotlibDeprecationWarning: The tostring_rgb function was deprecated in Matplotlib 3.8 and will be removed in 3.10. Use buffer_rgba instead.\n",
      "  image_from_plot = np.frombuffer(fig.canvas.tostring_rgb(), dtype=np.uint8)\n"
     ]
    },
    {
     "data": {
      "text/html": [
       "\n",
       "      <progress\n",
       "          value='0'\n",
       "          max='0',\n",
       "          style='width: 100%'\n",
       "      >\n",
       "          0\n",
       "      </progress>\n",
       "  "
      ],
      "text/plain": [
       "<IPython.core.display.HTML object>"
      ]
     },
     "metadata": {},
     "output_type": "display_data"
    },
    {
     "name": "stderr",
     "output_type": "stream",
     "text": [
      "/var/folders/b7/2pb1l53973g403rx3dhyqb6m0000gn/T/ipykernel_15691/2693263076.py:162: MatplotlibDeprecationWarning: The tostring_rgb function was deprecated in Matplotlib 3.8 and will be removed in 3.10. Use buffer_rgba instead.\n",
      "  image_from_plot = np.frombuffer(fig.canvas.tostring_rgb(), dtype=np.uint8)\n"
     ]
    },
    {
     "data": {
      "text/html": [
       "\n",
       "      <progress\n",
       "          value='0'\n",
       "          max='0',\n",
       "          style='width: 100%'\n",
       "      >\n",
       "          0\n",
       "      </progress>\n",
       "  "
      ],
      "text/plain": [
       "<IPython.core.display.HTML object>"
      ]
     },
     "metadata": {},
     "output_type": "display_data"
    },
    {
     "name": "stderr",
     "output_type": "stream",
     "text": [
      "/var/folders/b7/2pb1l53973g403rx3dhyqb6m0000gn/T/ipykernel_15691/2693263076.py:162: MatplotlibDeprecationWarning: The tostring_rgb function was deprecated in Matplotlib 3.8 and will be removed in 3.10. Use buffer_rgba instead.\n",
      "  image_from_plot = np.frombuffer(fig.canvas.tostring_rgb(), dtype=np.uint8)\n"
     ]
    },
    {
     "data": {
      "text/html": [
       "\n",
       "      <progress\n",
       "          value='0'\n",
       "          max='0',\n",
       "          style='width: 100%'\n",
       "      >\n",
       "          0\n",
       "      </progress>\n",
       "  "
      ],
      "text/plain": [
       "<IPython.core.display.HTML object>"
      ]
     },
     "metadata": {},
     "output_type": "display_data"
    },
    {
     "name": "stderr",
     "output_type": "stream",
     "text": [
      "/var/folders/b7/2pb1l53973g403rx3dhyqb6m0000gn/T/ipykernel_15691/2693263076.py:162: MatplotlibDeprecationWarning: The tostring_rgb function was deprecated in Matplotlib 3.8 and will be removed in 3.10. Use buffer_rgba instead.\n",
      "  image_from_plot = np.frombuffer(fig.canvas.tostring_rgb(), dtype=np.uint8)\n"
     ]
    },
    {
     "data": {
      "text/html": [
       "\n",
       "      <progress\n",
       "          value='0'\n",
       "          max='0',\n",
       "          style='width: 100%'\n",
       "      >\n",
       "          0\n",
       "      </progress>\n",
       "  "
      ],
      "text/plain": [
       "<IPython.core.display.HTML object>"
      ]
     },
     "metadata": {},
     "output_type": "display_data"
    },
    {
     "name": "stderr",
     "output_type": "stream",
     "text": [
      "/var/folders/b7/2pb1l53973g403rx3dhyqb6m0000gn/T/ipykernel_15691/2693263076.py:162: MatplotlibDeprecationWarning: The tostring_rgb function was deprecated in Matplotlib 3.8 and will be removed in 3.10. Use buffer_rgba instead.\n",
      "  image_from_plot = np.frombuffer(fig.canvas.tostring_rgb(), dtype=np.uint8)\n"
     ]
    },
    {
     "data": {
      "text/html": [
       "\n",
       "      <progress\n",
       "          value='0'\n",
       "          max='0',\n",
       "          style='width: 100%'\n",
       "      >\n",
       "          0\n",
       "      </progress>\n",
       "  "
      ],
      "text/plain": [
       "<IPython.core.display.HTML object>"
      ]
     },
     "metadata": {},
     "output_type": "display_data"
    },
    {
     "name": "stderr",
     "output_type": "stream",
     "text": [
      "/var/folders/b7/2pb1l53973g403rx3dhyqb6m0000gn/T/ipykernel_15691/2693263076.py:162: MatplotlibDeprecationWarning: The tostring_rgb function was deprecated in Matplotlib 3.8 and will be removed in 3.10. Use buffer_rgba instead.\n",
      "  image_from_plot = np.frombuffer(fig.canvas.tostring_rgb(), dtype=np.uint8)\n"
     ]
    },
    {
     "data": {
      "text/html": [
       "\n",
       "      <progress\n",
       "          value='0'\n",
       "          max='0',\n",
       "          style='width: 100%'\n",
       "      >\n",
       "          0\n",
       "      </progress>\n",
       "  "
      ],
      "text/plain": [
       "<IPython.core.display.HTML object>"
      ]
     },
     "metadata": {},
     "output_type": "display_data"
    },
    {
     "name": "stderr",
     "output_type": "stream",
     "text": [
      "/var/folders/b7/2pb1l53973g403rx3dhyqb6m0000gn/T/ipykernel_15691/2693263076.py:162: MatplotlibDeprecationWarning: The tostring_rgb function was deprecated in Matplotlib 3.8 and will be removed in 3.10. Use buffer_rgba instead.\n",
      "  image_from_plot = np.frombuffer(fig.canvas.tostring_rgb(), dtype=np.uint8)\n"
     ]
    },
    {
     "data": {
      "text/html": [
       "\n",
       "      <progress\n",
       "          value='0'\n",
       "          max='0',\n",
       "          style='width: 100%'\n",
       "      >\n",
       "          0\n",
       "      </progress>\n",
       "  "
      ],
      "text/plain": [
       "<IPython.core.display.HTML object>"
      ]
     },
     "metadata": {},
     "output_type": "display_data"
    },
    {
     "name": "stderr",
     "output_type": "stream",
     "text": [
      "/var/folders/b7/2pb1l53973g403rx3dhyqb6m0000gn/T/ipykernel_15691/2693263076.py:162: MatplotlibDeprecationWarning: The tostring_rgb function was deprecated in Matplotlib 3.8 and will be removed in 3.10. Use buffer_rgba instead.\n",
      "  image_from_plot = np.frombuffer(fig.canvas.tostring_rgb(), dtype=np.uint8)\n"
     ]
    },
    {
     "data": {
      "text/html": [
       "\n",
       "      <progress\n",
       "          value='0'\n",
       "          max='0',\n",
       "          style='width: 100%'\n",
       "      >\n",
       "          0\n",
       "      </progress>\n",
       "  "
      ],
      "text/plain": [
       "<IPython.core.display.HTML object>"
      ]
     },
     "metadata": {},
     "output_type": "display_data"
    },
    {
     "name": "stderr",
     "output_type": "stream",
     "text": [
      "/var/folders/b7/2pb1l53973g403rx3dhyqb6m0000gn/T/ipykernel_15691/2693263076.py:162: MatplotlibDeprecationWarning: The tostring_rgb function was deprecated in Matplotlib 3.8 and will be removed in 3.10. Use buffer_rgba instead.\n",
      "  image_from_plot = np.frombuffer(fig.canvas.tostring_rgb(), dtype=np.uint8)\n"
     ]
    },
    {
     "data": {
      "text/html": [
       "\n",
       "      <progress\n",
       "          value='0'\n",
       "          max='0',\n",
       "          style='width: 100%'\n",
       "      >\n",
       "          0\n",
       "      </progress>\n",
       "  "
      ],
      "text/plain": [
       "<IPython.core.display.HTML object>"
      ]
     },
     "metadata": {},
     "output_type": "display_data"
    },
    {
     "name": "stderr",
     "output_type": "stream",
     "text": [
      "/var/folders/b7/2pb1l53973g403rx3dhyqb6m0000gn/T/ipykernel_15691/2693263076.py:162: MatplotlibDeprecationWarning: The tostring_rgb function was deprecated in Matplotlib 3.8 and will be removed in 3.10. Use buffer_rgba instead.\n",
      "  image_from_plot = np.frombuffer(fig.canvas.tostring_rgb(), dtype=np.uint8)\n"
     ]
    },
    {
     "data": {
      "text/html": [
       "\n",
       "      <progress\n",
       "          value='0'\n",
       "          max='0',\n",
       "          style='width: 100%'\n",
       "      >\n",
       "          0\n",
       "      </progress>\n",
       "  "
      ],
      "text/plain": [
       "<IPython.core.display.HTML object>"
      ]
     },
     "metadata": {},
     "output_type": "display_data"
    },
    {
     "name": "stderr",
     "output_type": "stream",
     "text": [
      "/var/folders/b7/2pb1l53973g403rx3dhyqb6m0000gn/T/ipykernel_15691/2693263076.py:162: MatplotlibDeprecationWarning: The tostring_rgb function was deprecated in Matplotlib 3.8 and will be removed in 3.10. Use buffer_rgba instead.\n",
      "  image_from_plot = np.frombuffer(fig.canvas.tostring_rgb(), dtype=np.uint8)\n"
     ]
    },
    {
     "data": {
      "text/html": [
       "\n",
       "      <progress\n",
       "          value='0'\n",
       "          max='0',\n",
       "          style='width: 100%'\n",
       "      >\n",
       "          0\n",
       "      </progress>\n",
       "  "
      ],
      "text/plain": [
       "<IPython.core.display.HTML object>"
      ]
     },
     "metadata": {},
     "output_type": "display_data"
    },
    {
     "name": "stderr",
     "output_type": "stream",
     "text": [
      "/var/folders/b7/2pb1l53973g403rx3dhyqb6m0000gn/T/ipykernel_15691/2693263076.py:162: MatplotlibDeprecationWarning: The tostring_rgb function was deprecated in Matplotlib 3.8 and will be removed in 3.10. Use buffer_rgba instead.\n",
      "  image_from_plot = np.frombuffer(fig.canvas.tostring_rgb(), dtype=np.uint8)\n"
     ]
    },
    {
     "data": {
      "text/html": [
       "\n",
       "      <progress\n",
       "          value='0'\n",
       "          max='0',\n",
       "          style='width: 100%'\n",
       "      >\n",
       "          0\n",
       "      </progress>\n",
       "  "
      ],
      "text/plain": [
       "<IPython.core.display.HTML object>"
      ]
     },
     "metadata": {},
     "output_type": "display_data"
    },
    {
     "name": "stderr",
     "output_type": "stream",
     "text": [
      "/var/folders/b7/2pb1l53973g403rx3dhyqb6m0000gn/T/ipykernel_15691/2693263076.py:162: MatplotlibDeprecationWarning: The tostring_rgb function was deprecated in Matplotlib 3.8 and will be removed in 3.10. Use buffer_rgba instead.\n",
      "  image_from_plot = np.frombuffer(fig.canvas.tostring_rgb(), dtype=np.uint8)\n"
     ]
    },
    {
     "data": {
      "text/html": [
       "\n",
       "      <progress\n",
       "          value='0'\n",
       "          max='0',\n",
       "          style='width: 100%'\n",
       "      >\n",
       "          0\n",
       "      </progress>\n",
       "  "
      ],
      "text/plain": [
       "<IPython.core.display.HTML object>"
      ]
     },
     "metadata": {},
     "output_type": "display_data"
    },
    {
     "name": "stderr",
     "output_type": "stream",
     "text": [
      "/var/folders/b7/2pb1l53973g403rx3dhyqb6m0000gn/T/ipykernel_15691/2693263076.py:162: MatplotlibDeprecationWarning: The tostring_rgb function was deprecated in Matplotlib 3.8 and will be removed in 3.10. Use buffer_rgba instead.\n",
      "  image_from_plot = np.frombuffer(fig.canvas.tostring_rgb(), dtype=np.uint8)\n"
     ]
    },
    {
     "data": {
      "text/html": [
       "\n",
       "      <progress\n",
       "          value='0'\n",
       "          max='0',\n",
       "          style='width: 100%'\n",
       "      >\n",
       "          0\n",
       "      </progress>\n",
       "  "
      ],
      "text/plain": [
       "<IPython.core.display.HTML object>"
      ]
     },
     "metadata": {},
     "output_type": "display_data"
    },
    {
     "name": "stderr",
     "output_type": "stream",
     "text": [
      "/var/folders/b7/2pb1l53973g403rx3dhyqb6m0000gn/T/ipykernel_15691/2693263076.py:162: MatplotlibDeprecationWarning: The tostring_rgb function was deprecated in Matplotlib 3.8 and will be removed in 3.10. Use buffer_rgba instead.\n",
      "  image_from_plot = np.frombuffer(fig.canvas.tostring_rgb(), dtype=np.uint8)\n"
     ]
    },
    {
     "data": {
      "text/html": [
       "\n",
       "      <progress\n",
       "          value='0'\n",
       "          max='0',\n",
       "          style='width: 100%'\n",
       "      >\n",
       "          0\n",
       "      </progress>\n",
       "  "
      ],
      "text/plain": [
       "<IPython.core.display.HTML object>"
      ]
     },
     "metadata": {},
     "output_type": "display_data"
    },
    {
     "name": "stderr",
     "output_type": "stream",
     "text": [
      "/var/folders/b7/2pb1l53973g403rx3dhyqb6m0000gn/T/ipykernel_15691/2693263076.py:162: MatplotlibDeprecationWarning: The tostring_rgb function was deprecated in Matplotlib 3.8 and will be removed in 3.10. Use buffer_rgba instead.\n",
      "  image_from_plot = np.frombuffer(fig.canvas.tostring_rgb(), dtype=np.uint8)\n"
     ]
    },
    {
     "data": {
      "text/html": [
       "\n",
       "      <progress\n",
       "          value='0'\n",
       "          max='0',\n",
       "          style='width: 100%'\n",
       "      >\n",
       "          0\n",
       "      </progress>\n",
       "  "
      ],
      "text/plain": [
       "<IPython.core.display.HTML object>"
      ]
     },
     "metadata": {},
     "output_type": "display_data"
    },
    {
     "name": "stderr",
     "output_type": "stream",
     "text": [
      "/var/folders/b7/2pb1l53973g403rx3dhyqb6m0000gn/T/ipykernel_15691/2693263076.py:162: MatplotlibDeprecationWarning: The tostring_rgb function was deprecated in Matplotlib 3.8 and will be removed in 3.10. Use buffer_rgba instead.\n",
      "  image_from_plot = np.frombuffer(fig.canvas.tostring_rgb(), dtype=np.uint8)\n"
     ]
    },
    {
     "data": {
      "text/html": [
       "\n",
       "      <progress\n",
       "          value='0'\n",
       "          max='0',\n",
       "          style='width: 100%'\n",
       "      >\n",
       "          0\n",
       "      </progress>\n",
       "  "
      ],
      "text/plain": [
       "<IPython.core.display.HTML object>"
      ]
     },
     "metadata": {},
     "output_type": "display_data"
    },
    {
     "name": "stderr",
     "output_type": "stream",
     "text": [
      "/var/folders/b7/2pb1l53973g403rx3dhyqb6m0000gn/T/ipykernel_15691/2693263076.py:162: MatplotlibDeprecationWarning: The tostring_rgb function was deprecated in Matplotlib 3.8 and will be removed in 3.10. Use buffer_rgba instead.\n",
      "  image_from_plot = np.frombuffer(fig.canvas.tostring_rgb(), dtype=np.uint8)\n"
     ]
    },
    {
     "data": {
      "text/html": [
       "\n",
       "      <progress\n",
       "          value='0'\n",
       "          max='0',\n",
       "          style='width: 100%'\n",
       "      >\n",
       "          0\n",
       "      </progress>\n",
       "  "
      ],
      "text/plain": [
       "<IPython.core.display.HTML object>"
      ]
     },
     "metadata": {},
     "output_type": "display_data"
    },
    {
     "name": "stderr",
     "output_type": "stream",
     "text": [
      "/var/folders/b7/2pb1l53973g403rx3dhyqb6m0000gn/T/ipykernel_15691/2693263076.py:162: MatplotlibDeprecationWarning: The tostring_rgb function was deprecated in Matplotlib 3.8 and will be removed in 3.10. Use buffer_rgba instead.\n",
      "  image_from_plot = np.frombuffer(fig.canvas.tostring_rgb(), dtype=np.uint8)\n"
     ]
    }
   ],
   "source": [
    "tensor = None\n",
    "print(os.listdir())\n",
    "\n",
    "for image_path in os.listdir(\".\"):\n",
    "    image = tf.io.read_file(image_path)\n",
    "    image = tf.image.decode_gif(image)\n",
    "    \n",
    "    if tensor is None:\n",
    "        tensor = ret_coord(image)\n",
    "    else:\n",
    "        tensor = np.concat([tensor,ret_coord(image)],axis = 0)\n",
    "    \n",
    "#"
   ]
  },
  {
   "cell_type": "code",
   "execution_count": 158,
   "metadata": {},
   "outputs": [
    {
     "data": {
      "text/plain": [
       "(97, 17, 3)"
      ]
     },
     "execution_count": 158,
     "metadata": {},
     "output_type": "execute_result"
    }
   ],
   "source": [
    "tensor.squeeze(1).shape"
   ]
  },
  {
   "cell_type": "code",
   "execution_count": 164,
   "metadata": {},
   "outputs": [
    {
     "data": {
      "text/plain": [
       "(1, 17, 3)"
      ]
     },
     "execution_count": 164,
     "metadata": {},
     "output_type": "execute_result"
    }
   ],
   "source": [
    "\n",
    "KEYPOINT_DICT[\"right_hip\"]\n",
    "\n",
    "hip_coordinate = tensor[2]\n",
    "\n",
    "knee_coordinate = tensor[KEYPOINT_DICT[\"right_knee\"]]\n",
    "\n",
    "shoulder_coordinate = tensor[KEYPOINT_DICT[\"right_shoulder\"]]\n",
    "\n",
    "shoulder_coordinate.shape"
   ]
  },
  {
   "cell_type": "code",
   "execution_count": 94,
   "metadata": {},
   "outputs": [
    {
     "data": {
      "text/plain": [
       "array([0.22192256, 0.6604529 , 0.8427954 ], dtype=float32)"
      ]
     },
     "execution_count": 94,
     "metadata": {},
     "output_type": "execute_result"
    }
   ],
   "source": [
    "keypoints_with_scores.squeeze()[KEYPOINT_DICT[\"right_hip\"]]"
   ]
  },
  {
   "cell_type": "code",
   "execution_count": 103,
   "metadata": {},
   "outputs": [
    {
     "data": {
      "text/plain": [
       "np.float32(87.39221)"
      ]
     },
     "execution_count": 103,
     "metadata": {},
     "output_type": "execute_result"
    }
   ],
   "source": [
    "knee_hip_vector = knee_coordinate - hip_coordinate\n",
    "shoulder_hip_vector = shoulder_coordinate - hip_coordinate\n",
    "shoulder_knees_angle = np.degrees(np.arccos(knee_hip_vector@hip_coordinate.T/(tf.norm(knee_hip_vector) * tf.norm(hip_coordinate))))\n",
    "\n",
    "\n",
    "\n"
   ]
  },
  {
   "cell_type": "markdown",
   "metadata": {},
   "source": [
    "# downwarddog"
   ]
  },
  {
   "cell_type": "markdown",
   "metadata": {},
   "source": [
    "## shoulder_knees_angle"
   ]
  },
  {
   "cell_type": "code",
   "execution_count": 193,
   "metadata": {},
   "outputs": [],
   "source": [
    "def isleft(keypoints_with_scores):\n",
    "    \n",
    "    if keypoints_with_scores[KEYPOINT_DICT[\"left_ankle\"]][0] - keypoints_with_scores[KEYPOINT_DICT[\"left_wrist\"]][0]>0:\n",
    "        return True\n",
    "    else: return False\n",
    "        \n",
    "\n",
    "angle_lis = []\n",
    "for i in range(tensor.shape[0]):\n",
    "    temp = tensor[i].squeeze()\n",
    "    hip_coordinate = temp[2]\n",
    "\n",
    "    knee_coordinate = temp[KEYPOINT_DICT[\"right_knee\"]]\n",
    "\n",
    "    shoulder_coordinate = temp[KEYPOINT_DICT[\"right_shoulder\"]]\n",
    "\n",
    "    knee_hip_vector = knee_coordinate - hip_coordinate\n",
    "    shoulder_hip_vector = shoulder_coordinate - hip_coordinate\n",
    "    shoulder_knees_angle = np.degrees(np.arccos(knee_hip_vector@hip_coordinate.T/(tf.norm(knee_hip_vector) * tf.norm(hip_coordinate))))\n",
    "    angle_lis.append(shoulder_knees_angle)\n",
    "    \n"
   ]
  },
  {
   "cell_type": "code",
   "execution_count": 208,
   "metadata": {},
   "outputs": [
    {
     "name": "stdout",
     "output_type": "stream",
     "text": [
      "(97, 1, 17, 3)\n"
     ]
    }
   ],
   "source": [
    "print(tensor.shape)"
   ]
  },
  {
   "cell_type": "code",
   "execution_count": 239,
   "metadata": {},
   "outputs": [],
   "source": [
    "import statistics\n",
    "\n",
    "hip_angle_lis = []\n",
    "hip_knee_angle_lis = []\n",
    "shoulder_hip_angle_lis = []\n",
    "elbow_angle_lis = []\n",
    "knees_angle_lis = []\n",
    "\n",
    "\n",
    "for i in range(tensor.shape[0]):\n",
    "    \n",
    "    temp = tensor[i].squeeze()\n",
    "    \n",
    "    if isleft(temp):\n",
    "        \n",
    "        hip_coordinate = temp[KEYPOINT_DICT[\"left_hip\"]]\n",
    "\n",
    "        knee_coordinate = temp[KEYPOINT_DICT[\"left_knee\"]]\n",
    "\n",
    "        shoulder_coordinate = temp[KEYPOINT_DICT[\"left_shoulder\"]]\n",
    "        \n",
    "        hand_coordinate = temp[KEYPOINT_DICT[\"left_wrist\"]]\n",
    "        \n",
    "        elbow_coordinate = temp[KEYPOINT_DICT[\"left_elbow\"]]\n",
    "        \n",
    "        ankle_coordinate = temp[KEYPOINT_DICT[\"left_ankle\"]]\n",
    "\n",
    "        \n",
    "    else:\n",
    "        \n",
    "        hip_coordinate = temp[KEYPOINT_DICT[\"right_hip\"]]\n",
    "\n",
    "        knee_coordinate = temp[KEYPOINT_DICT[\"right_knee\"]]\n",
    "\n",
    "        shoulder_coordinate = temp[KEYPOINT_DICT[\"right_shoulder\"]]\n",
    "        \n",
    "        hand_coordinate = temp[KEYPOINT_DICT[\"right_wrist\"]]\n",
    "        \n",
    "        elbow_coordinate = temp[KEYPOINT_DICT[\"right_elbow\"]]\n",
    "        \n",
    "        ankle_coordinate = temp[KEYPOINT_DICT[\"right_ankle\"]]\n",
    "\n",
    "        \n",
    "\n",
    "    knee_hip_vector = knee_coordinate - hip_coordinate\n",
    "    shoulder_hip_vector = shoulder_coordinate - hip_coordinate\n",
    "    shoulder_knees_angle = np.degrees(np.arccos(knee_hip_vector@hip_coordinate.T/(tf.norm(knee_hip_vector) * tf.norm(hip_coordinate))))\n",
    "    hip_angle_lis.append(shoulder_knees_angle)\n",
    "    \n",
    "    hip_shoulder_vector = - shoulder_hip_vector\n",
    "    knees_shoulder_vector = knee_coordinate - shoulder_coordinate\n",
    "    hip_knees_angel = np.degrees(np.arccos(((hip_shoulder_vector@knees_shoulder_vector.T))/(tf.norm(hip_shoulder_vector)*tf.norm(knees_shoulder_vector))))\n",
    "    hip_knee_angle_lis.append(hip_knees_angel)\n",
    "    \n",
    "    shoulder_knees_vector = -knees_shoulder_vector\n",
    "    hip_knees_vector = -knee_hip_vector\n",
    "    hip_shoulder_vector = np.degrees(np.arccos(((shoulder_knees_vector@hip_knees_vector.T))/(tf.norm(shoulder_knees_vector)*tf.norm(hip_knees_vector))))\n",
    "    shoulder_hip_angle_lis.append(hip_knees_angel)\n",
    "    \n",
    "    hand_elbow_vector = hand_coordinate - elbow_coordinate\n",
    "    shoulder_elbow_vector = shoulder_coordinate - elbow_coordinate\n",
    "    elbow_angle = np.degrees(np.arccos((hand_elbow_vector@shoulder_elbow_vector.T)/(tf.norm(hand_elbow_vector)*tf.norm(shoulder_elbow_vector))))\n",
    "    elbow_angle_lis.append(elbow_angle)\n",
    "    \n",
    "    ankle_knee_vector = ankle_coordinate - knee_coordinate\n",
    "    knees_angle = np.degrees(np.arccos((ankle_knee_vector@hip_knees_vector.T)/(tf.norm(ankle_knee_vector)*tf.norm(hip_knees_vector))))\n",
    "    knees_angle_lis.append(knees_angle)\n",
    "    \n",
    "    \n",
    "    \n",
    "    \n",
    "    \n",
    "hip_angel_mean = statistics.mean(hip_angle_lis).item()\n",
    "hip_angel_std = statistics.stdev(hip_angle_lis)\n",
    "\n",
    "hip_knee_angle_mean = statistics.mean(hip_knee_angle_lis).item()\n",
    "hip_knee_angle_std = statistics.stdev(hip_knee_angle_lis)\n",
    "\n",
    "shoulder_hip_angle_mean = statistics.mean(shoulder_hip_angle_lis).item()\n",
    "shoulder_hip_angle_std = statistics.stdev(shoulder_hip_angle_lis)\n",
    "\n",
    "elbow_angle_mean=statistics.mean(elbow_angle_lis).item()\n",
    "elbow_angle_std = statistics.stdev(elbow_angle_lis)\n",
    "\n",
    "knees_angle_mean = statistics.mean(knees_angle_lis).item()\n",
    "knees_angle_std = statistics.stdev(knees_angle_lis)\n"
   ]
  },
  {
   "cell_type": "code",
   "execution_count": 240,
   "metadata": {},
   "outputs": [],
   "source": [
    "data = {\n",
    "    \"hip_angle_mean\":hip_angel_mean,\n",
    "    \"hip_angel_std\":hip_angel_std,\n",
    "    \"hip_knee_angle_mean\":hip_knee_angle_mean,\n",
    "    \"hip_knee_angle_std\":hip_knee_angle_std,\n",
    "    \"shoulder_hip_angle_mean\":shoulder_hip_angle_mean,\n",
    "    \"shoulder_hip_angle_std\":shoulder_hip_angle_std,\n",
    "    \"elbow_angle_mean\": elbow_angle_mean,\n",
    "    \"elbow_angle_std\":elbow_angle_std,\n",
    "    \"knees_angle_mean\":knees_angle_mean,\n",
    "    \"knees_angle_std\":knees_angle_std\n",
    "}"
   ]
  },
  {
   "cell_type": "code",
   "execution_count": 243,
   "metadata": {},
   "outputs": [],
   "source": [
    "import json\n",
    "\n",
    "with open(\"downdog_stats.json\", \"w\") as json_file:\n",
    "    json.dump(data, json_file, indent=4)"
   ]
  },
  {
   "cell_type": "code",
   "execution_count": 220,
   "metadata": {},
   "outputs": [
    {
     "data": {
      "text/plain": [
       "72.2092514038086"
      ]
     },
     "execution_count": 220,
     "metadata": {},
     "output_type": "execute_result"
    }
   ],
   "source": [
    "hip_angel_mean"
   ]
  },
  {
   "cell_type": "markdown",
   "metadata": {},
   "source": [
    "# Warrior"
   ]
  },
  {
   "cell_type": "code",
   "execution_count": 229,
   "metadata": {},
   "outputs": [],
   "source": [
    "def angle(A,B):\n",
    "    return np.degrees(np.arccos((A@B.T)/(tf.norm(A)*tf.norm(B))))"
   ]
  },
  {
   "cell_type": "code",
   "execution_count": 250,
   "metadata": {},
   "outputs": [],
   "source": [
    "def facing_left(tensor):\n",
    "    if np.abs(tensor[KEYPOINT_DICT[\"nose\"]][0] - tensor[KEYPOINT_DICT[\"left_wrist\"]][0]) < np.abs(tensor[KEYPOINT_DICT[\"nose\"]][0] - tensor[KEYPOINT_DICT[\"right_wrist\"]][0]):\n",
    "        return True\n",
    "    else: \n",
    "        return False\n",
    "    \n"
   ]
  },
  {
   "cell_type": "code",
   "execution_count": 281,
   "metadata": {},
   "outputs": [],
   "source": [
    "forward_knee_angle_lis = []\n",
    "back_knee_angle_lis = []\n",
    "\n",
    "for i in range(tensor.shape[0]):\n",
    "    temp = tensor[i].squeeze()\n",
    "    \n",
    "    if facing_left(temp):\n",
    "        \n",
    "        forward_ankle_coord = temp[KEYPOINT_DICT[\"left_ankle\"]] \n",
    "        \n",
    "        forward_knee_coord = temp[KEYPOINT_DICT[\"left_knee\"]]\n",
    "        \n",
    "        forward_hip_coord = temp[KEYPOINT_DICT[\"left_hip\"]]\n",
    "        \n",
    "        back_ankle_coord = temp[KEYPOINT_DICT[\"right_ankle\"]]\n",
    "        \n",
    "        back_knee_coord = temp[KEYPOINT_DICT['right_knee']]\n",
    "        \n",
    "        back_hip_coord = temp[KEYPOINT_DICT['right_hip']]\n",
    "        \n",
    "    else:\n",
    "        forward_ankle_coord = temp[KEYPOINT_DICT[\"right_ankle\"]] \n",
    "        \n",
    "        forward_knee_coord = temp[KEYPOINT_DICT[\"right_knee\"]]\n",
    "        \n",
    "        forward_hip_coord = temp[KEYPOINT_DICT[\"right_hip\"]]\n",
    "        \n",
    "        back_ankle_coord = temp[KEYPOINT_DICT[\"left_ankle\"]]\n",
    "        \n",
    "        back_knee_coord = temp[KEYPOINT_DICT['left_knee']]\n",
    "        \n",
    "        back_hip_coord = temp[KEYPOINT_DICT['left_hip']]\n",
    "        \n",
    "        \n",
    "    \n",
    "    forward_ankle_forward_knee = forward_ankle_coord - forward_knee_coord\n",
    "    forward_knee_forward_hip =  forward_knee_coord - forward_hip_coord\n",
    "    forward_knee_angle = angle(forward_ankle_forward_knee,forward_knee_forward_hip)\n",
    "    forward_knee_angle_lis.append(forward_knee_angle)\n",
    "    \n",
    "    back_ankle_back_knee = back_ankle_coord - back_knee_coord\n",
    "    back_hip_back_knee =  back_hip_coord - back_knee_coord\n",
    "    back_knee_angle = angle(back_hip_back_knee,back_ankle_back_knee)\n",
    "    back_knee_angle_lis.append(back_knee_angle)\n",
    "    \n",
    "\n",
    "forward_knee_angle_mean = statistics.mean(forward_knee_angle_lis)\n",
    "forward_knee_angle_std = statistics.stdev(forward_knee_angle_lis)\n",
    "\n",
    "back_knee_angle_mean = statistics.mean(back_knee_angle_lis)\n",
    "back_knee_angle_std = statistics.stdev(back_knee_angle_lis)\n",
    "    \n",
    "    \n",
    "    \n",
    "    \n",
    "        \n",
    "\n",
    "    "
   ]
  },
  {
   "cell_type": "code",
   "execution_count": 284,
   "metadata": {},
   "outputs": [
    {
     "data": {
      "text/plain": [
       "24.547183904875133"
      ]
     },
     "execution_count": 284,
     "metadata": {},
     "output_type": "execute_result"
    }
   ],
   "source": [
    "forward_knee_angle_std"
   ]
  }
 ],
 "metadata": {
  "kernelspec": {
   "display_name": ".venv",
   "language": "python",
   "name": "python3"
  },
  "language_info": {
   "codemirror_mode": {
    "name": "ipython",
    "version": 3
   },
   "file_extension": ".py",
   "mimetype": "text/x-python",
   "name": "python",
   "nbconvert_exporter": "python",
   "pygments_lexer": "ipython3",
   "version": "3.11.9"
  }
 },
 "nbformat": 4,
 "nbformat_minor": 2
}
